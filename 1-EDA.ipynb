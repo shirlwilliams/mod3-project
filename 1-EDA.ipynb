{
 "cells": [
  {
   "cell_type": "markdown",
   "metadata": {},
   "source": [
    "# Exploratory Data Analysis"
   ]
  },
  {
   "cell_type": "code",
   "execution_count": 2,
   "metadata": {},
   "outputs": [],
   "source": [
    "# imports\n",
    "import pandas as pd\n",
    "import numpy as np\n",
    "import matplotlib.pyplot as plt\n",
    "%matplotlib inline\n",
    "import seaborn as sns"
   ]
  },
  {
   "cell_type": "code",
   "execution_count": null,
   "metadata": {
    "scrolled": true
   },
   "outputs": [],
   "source": [
    "# Load data file\n",
    "df = pd.read_csv('terry-clean.csv')\n",
    "pd.set_option('display.max_columns', 999)\n",
    "df = df.drop(columns=['go_/_sc_num', 'terry_stop_id', 'officer_id', 'subject_id', 'officer_yob', 'precinct', 'sector', 'beat'])\n",
    "df.head()"
   ]
  },
  {
   "cell_type": "code",
   "execution_count": 25,
   "metadata": {
    "scrolled": true
   },
   "outputs": [
    {
     "name": "stdout",
     "output_type": "stream",
     "text": [
      "<class 'pandas.core.frame.DataFrame'>\n",
      "RangeIndex: 40313 entries, 0 to 40312\n",
      "Data columns (total 18 columns):\n",
      "subject_age_group           40313 non-null object\n",
      "stop_resolution             40313 non-null object\n",
      "weapon_type                 40313 non-null object\n",
      "officer_gender              40313 non-null object\n",
      "officer_race                40313 non-null object\n",
      "subject_perceived_race      40313 non-null object\n",
      "subject_perceived_gender    40313 non-null object\n",
      "reported_date               40313 non-null object\n",
      "reported_time               40313 non-null object\n",
      "initial_call_type           40313 non-null object\n",
      "final_call_type             40313 non-null object\n",
      "call_type                   40313 non-null object\n",
      "officer_squad               39780 non-null object\n",
      "arrest_flag                 40313 non-null object\n",
      "frisk_flag                  40313 non-null object\n",
      "precinct                    40313 non-null object\n",
      "sector                      40313 non-null object\n",
      "beat                        40313 non-null object\n",
      "dtypes: object(18)\n",
      "memory usage: 5.5+ MB\n"
     ]
    }
   ],
   "source": [
    "df.info()"
   ]
  },
  {
   "cell_type": "markdown",
   "metadata": {},
   "source": [
    "# Who are the subjects?"
   ]
  },
  {
   "cell_type": "code",
   "execution_count": null,
   "metadata": {},
   "outputs": [],
   "source": [
    "# Subject ages\n",
    "sns.boxplot(df)"
   ]
  },
  {
   "cell_type": "code",
   "execution_count": null,
   "metadata": {},
   "outputs": [],
   "source": []
  }
 ],
 "metadata": {
  "kernelspec": {
   "display_name": "Python [conda env:learn-env] *",
   "language": "python",
   "name": "conda-env-learn-env-py"
  },
  "language_info": {
   "codemirror_mode": {
    "name": "ipython",
    "version": 3
   },
   "file_extension": ".py",
   "mimetype": "text/x-python",
   "name": "python",
   "nbconvert_exporter": "python",
   "pygments_lexer": "ipython3",
   "version": "3.6.9"
  },
  "toc": {
   "base_numbering": 1,
   "nav_menu": {},
   "number_sections": false,
   "sideBar": true,
   "skip_h1_title": false,
   "title_cell": "Table of Contents",
   "title_sidebar": "Contents",
   "toc_cell": false,
   "toc_position": {},
   "toc_section_display": true,
   "toc_window_display": true
  }
 },
 "nbformat": 4,
 "nbformat_minor": 2
}
