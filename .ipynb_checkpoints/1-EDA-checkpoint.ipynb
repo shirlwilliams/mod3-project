{
 "cells": [
  {
   "cell_type": "markdown",
   "metadata": {},
   "source": [
    "# Exploratory Data Analysis"
   ]
  },
  {
   "cell_type": "markdown",
   "metadata": {},
   "source": [
    "## Set up"
   ]
  },
  {
   "cell_type": "code",
   "execution_count": 1,
   "metadata": {},
   "outputs": [],
   "source": [
    "# imports\n",
    "import pandas as pd\n",
    "import numpy as np\n",
    "import matplotlib.pyplot as plt\n",
    "%matplotlib inline\n",
    "import seaborn as sns"
   ]
  },
  {
   "cell_type": "code",
   "execution_count": 2,
   "metadata": {
    "scrolled": true
   },
   "outputs": [],
   "source": [
    "# Load data file\n",
    "df = pd.read_csv('terry-clean.csv')\n",
    "pd.set_option('display.max_columns', 999)\n",
    "time = df.reported_time\n",
    "df = df.drop(columns=['go_/_sc_num', 'terry_stop_id', 'officer_id', 'subject_id', 'reported_date',\n",
    "                      'officer_squad', 'officer_yob', 'precinct', 'sector', 'beat'])\n",
    "df.head()"
   ]
  },
  {
   "cell_type": "code",
   "execution_count": 3,
   "metadata": {
    "scrolled": true
   },
   "outputs": [],
   "source": [
    "df.info()"
   ]
  },
  {
   "cell_type": "code",
   "execution_count": 4,
   "metadata": {},
   "outputs": [],
   "source": [
    "# Turn time into categories\n",
    "\n",
    "# Observe the hour\n",
    "df['reported_time'] = pd.to_datetime(df['reported_time'])\n",
    "df['hour'] = df['reported_time'].dt.hour\n",
    "df['watch'] = df['reported_time'].dt.hour\n",
    "\n",
    "# Create bins\n",
    "bins = [0, 6, 12, 18, 24]\n",
    "\n",
    "# Use pd.cut()\n",
    "bins_time = pd.cut(df.hour, bins, right=False)\n",
    "print(bins_time)\n",
    "\n",
    "df.watch = bins_time\n",
    "\n"
   ]
  },
  {
   "cell_type": "markdown",
   "metadata": {},
   "source": [
    "# What's in the data?\n",
    "Let's look at the individual plots for each feature."
   ]
  },
  {
   "cell_type": "code",
   "execution_count": 7,
   "metadata": {},
   "outputs": [],
   "source": [
    "\n",
    "for col in df.drop(columns=['final_call_type', 'initial_call_type', 'reported_time']).columns:\n",
    "    ax = sns.countplot(y=col, data=df, edgecolor=sns.color_palette(\"dark\", 3), palette='pastel',\n",
    "                  order = df[col].value_counts().index);\n",
    "    total = len(df[col])\n",
    "    for p in ax.patches:\n",
    "            percentage = '{:.1f}%'.format(100 * p.get_width()/total)\n",
    "            x = p.get_x() + p.get_width() + 0.02\n",
    "            y = p.get_y() + p.get_height()/2\n",
    "            ax.annotate(percentage, (x, y))\n",
    "    title = col.replace('_', ' ').title()\n",
    "    plt.title(title, fontsize=18)\n",
    "    plt.ylabel(title, fontsize=16)\n",
    "    plt.xlabel('Count', fontsize=16)\n",
    "    plt.xticks(fontsize=14)\n",
    "    plt.yticks(fontsize=14)\n",
    "    sns.despine(left=False)\n",
    "    plt.show()\n"
   ]
  },
  {
   "cell_type": "markdown",
   "metadata": {},
   "source": [
    "Needed a better plot for the reporting hour"
   ]
  },
  {
   "cell_type": "code",
   "execution_count": 6,
   "metadata": {
    "scrolled": true
   },
   "outputs": [],
   "source": [
    "sns.catplot(y='hour', kind=\"count\", data=df);\n",
    "plt.title('Reporting Hour')\n",
    "plt.ylabel('Hour')\n",
    "plt.xlabel('Count')\n",
    "plt.show()"
   ]
  },
  {
   "cell_type": "markdown",
   "metadata": {},
   "source": [
    "## Data Summary\n",
    "The largest group sections:\n",
    "* Age group: 26 - 35 (34%)\n",
    "* Stop Resolution: Field Contact (39.1%)\n",
    "* Weapon type: None (94.4%)\n",
    "* Officer gender: Male (88.9%)\n",
    "* Officer race: White (77.4%)\n",
    "* Subject perceived race: White (49.1%)\n",
    "* Subject perceived gender: Male (77.8%)\n",
    "* Call type: 911 (43.3%)\n",
    "* Arrest flag: No (96.0%)\n",
    "* Frisk flag: No (76.9%)\n",
    "* Watch: 6-Midnight (27.3%)\n",
    "* Hour: 6 pm (6.3%)"
   ]
  }
 ],
 "metadata": {
  "kernelspec": {
   "display_name": "Python [conda env:learn-env] *",
   "language": "python",
   "name": "conda-env-learn-env-py"
  },
  "language_info": {
   "codemirror_mode": {
    "name": "ipython",
    "version": 3
   },
   "file_extension": ".py",
   "mimetype": "text/x-python",
   "name": "python",
   "nbconvert_exporter": "python",
   "pygments_lexer": "ipython3",
   "version": "3.6.9"
  },
  "toc": {
   "base_numbering": 1,
   "nav_menu": {},
   "number_sections": false,
   "sideBar": true,
   "skip_h1_title": false,
   "title_cell": "Table of Contents",
   "title_sidebar": "Contents",
   "toc_cell": false,
   "toc_position": {},
   "toc_section_display": true,
   "toc_window_display": false
  }
 },
 "nbformat": 4,
 "nbformat_minor": 2
}
