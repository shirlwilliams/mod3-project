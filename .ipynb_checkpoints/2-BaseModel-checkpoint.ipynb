{
 "cells": [
  {
   "cell_type": "markdown",
   "metadata": {},
   "source": [
    "# Data "
   ]
  },
  {
   "cell_type": "markdown",
   "metadata": {},
   "source": []
  },
  {
   "cell_type": "code",
   "execution_count": 23,
   "metadata": {},
   "outputs": [],
   "source": [
    "import pandas as pd\n",
    "import numpy as np\n",
    "import itertools\n",
    "import matplotlib.pyplot as plt\n",
    "%matplotlib inline\n",
    "import seaborn as sns\n",
    "from datetime import datetime\n",
    "from sklearn.model_selection import train_test_split\n",
    "from sklearn.linear_model import LogisticRegression\n",
    "from imblearn.over_sampling import SMOTE, ADASYN\n",
    "from sklearn.metrics import accuracy_score, confusion_matrix, classification_report, roc_curve, auc \n",
    "from sklearn.tree import DecisionTreeClassifier\n",
    "from sklearn.ensemble import BaggingClassifier, RandomForestClassifier\n"
   ]
  },
  {
   "cell_type": "code",
   "execution_count": 2,
   "metadata": {
    "scrolled": true
   },
   "outputs": [
    {
     "name": "stderr",
     "output_type": "stream",
     "text": [
      "/Users/shirlwilliams/opt/anaconda3/envs/learn-env/lib/python3.6/site-packages/IPython/core/interactiveshell.py:3058: DtypeWarning: Columns (6) have mixed types. Specify dtype option on import or set low_memory=False.\n",
      "  interactivity=interactivity, compiler=compiler, result=result)\n"
     ]
    },
    {
     "data": {
      "text/html": [
       "<div>\n",
       "<style scoped>\n",
       "    .dataframe tbody tr th:only-of-type {\n",
       "        vertical-align: middle;\n",
       "    }\n",
       "\n",
       "    .dataframe tbody tr th {\n",
       "        vertical-align: top;\n",
       "    }\n",
       "\n",
       "    .dataframe thead th {\n",
       "        text-align: right;\n",
       "    }\n",
       "</style>\n",
       "<table border=\"1\" class=\"dataframe\">\n",
       "  <thead>\n",
       "    <tr style=\"text-align: right;\">\n",
       "      <th></th>\n",
       "      <th>subject_age_group</th>\n",
       "      <th>subject_id</th>\n",
       "      <th>go_/_sc_num</th>\n",
       "      <th>terry_stop_id</th>\n",
       "      <th>stop_resolution</th>\n",
       "      <th>weapon_type</th>\n",
       "      <th>officer_id</th>\n",
       "      <th>officer_yob</th>\n",
       "      <th>officer_gender</th>\n",
       "      <th>officer_race</th>\n",
       "      <th>subject_perceived_race</th>\n",
       "      <th>subject_perceived_gender</th>\n",
       "      <th>reported_date</th>\n",
       "      <th>reported_time</th>\n",
       "      <th>initial_call_type</th>\n",
       "      <th>final_call_type</th>\n",
       "      <th>call_type</th>\n",
       "      <th>officer_squad</th>\n",
       "      <th>arrest_flag</th>\n",
       "      <th>frisk_flag</th>\n",
       "      <th>precinct</th>\n",
       "      <th>sector</th>\n",
       "      <th>beat</th>\n",
       "    </tr>\n",
       "  </thead>\n",
       "  <tbody>\n",
       "    <tr>\n",
       "      <td>0</td>\n",
       "      <td>36 - 45</td>\n",
       "      <td>-1</td>\n",
       "      <td>20140000120677</td>\n",
       "      <td>92317</td>\n",
       "      <td>Arrest</td>\n",
       "      <td>None</td>\n",
       "      <td>7500</td>\n",
       "      <td>1984</td>\n",
       "      <td>M</td>\n",
       "      <td>Black or African American</td>\n",
       "      <td>Asian</td>\n",
       "      <td>Male</td>\n",
       "      <td>2015-10-16T00:00:00</td>\n",
       "      <td>11:32:00</td>\n",
       "      <td>-</td>\n",
       "      <td>-</td>\n",
       "      <td>None</td>\n",
       "      <td>SOUTH PCT 1ST W - ROBERT</td>\n",
       "      <td>N</td>\n",
       "      <td>N</td>\n",
       "      <td>South</td>\n",
       "      <td>O</td>\n",
       "      <td>O2</td>\n",
       "    </tr>\n",
       "    <tr>\n",
       "      <td>1</td>\n",
       "      <td>18 - 25</td>\n",
       "      <td>-1</td>\n",
       "      <td>20150000001670</td>\n",
       "      <td>32260</td>\n",
       "      <td>Field Contact</td>\n",
       "      <td>None</td>\n",
       "      <td>7539</td>\n",
       "      <td>1963</td>\n",
       "      <td>M</td>\n",
       "      <td>White</td>\n",
       "      <td>Unknown</td>\n",
       "      <td>-</td>\n",
       "      <td>2015-04-01T00:00:00</td>\n",
       "      <td>04:55:00</td>\n",
       "      <td>-</td>\n",
       "      <td>-</td>\n",
       "      <td>None</td>\n",
       "      <td>NaN</td>\n",
       "      <td>N</td>\n",
       "      <td>N</td>\n",
       "      <td>-</td>\n",
       "      <td>-</td>\n",
       "      <td>-</td>\n",
       "    </tr>\n",
       "    <tr>\n",
       "      <td>2</td>\n",
       "      <td>1 - 17</td>\n",
       "      <td>-1</td>\n",
       "      <td>20150000002451</td>\n",
       "      <td>46430</td>\n",
       "      <td>Field Contact</td>\n",
       "      <td>None</td>\n",
       "      <td>7591</td>\n",
       "      <td>1985</td>\n",
       "      <td>M</td>\n",
       "      <td>Hispanic or Latino</td>\n",
       "      <td>Unknown</td>\n",
       "      <td>-</td>\n",
       "      <td>2015-05-25T00:00:00</td>\n",
       "      <td>01:06:00</td>\n",
       "      <td>-</td>\n",
       "      <td>-</td>\n",
       "      <td>None</td>\n",
       "      <td>WEST PCT 3RD W - MARY</td>\n",
       "      <td>N</td>\n",
       "      <td>N</td>\n",
       "      <td>-</td>\n",
       "      <td>-</td>\n",
       "      <td>-</td>\n",
       "    </tr>\n",
       "    <tr>\n",
       "      <td>3</td>\n",
       "      <td>1 - 17</td>\n",
       "      <td>-1</td>\n",
       "      <td>20150000002815</td>\n",
       "      <td>51725</td>\n",
       "      <td>Field Contact</td>\n",
       "      <td>None</td>\n",
       "      <td>7456</td>\n",
       "      <td>1979</td>\n",
       "      <td>M</td>\n",
       "      <td>White</td>\n",
       "      <td>Unknown</td>\n",
       "      <td>-</td>\n",
       "      <td>2015-06-09T00:00:00</td>\n",
       "      <td>19:27:00</td>\n",
       "      <td>-</td>\n",
       "      <td>-</td>\n",
       "      <td>None</td>\n",
       "      <td>NORTH PCT 2ND W - NORA</td>\n",
       "      <td>N</td>\n",
       "      <td>N</td>\n",
       "      <td>-</td>\n",
       "      <td>-</td>\n",
       "      <td>-</td>\n",
       "    </tr>\n",
       "    <tr>\n",
       "      <td>4</td>\n",
       "      <td>26 - 35</td>\n",
       "      <td>-1</td>\n",
       "      <td>20150000002815</td>\n",
       "      <td>51727</td>\n",
       "      <td>Field Contact</td>\n",
       "      <td>None</td>\n",
       "      <td>7456</td>\n",
       "      <td>1979</td>\n",
       "      <td>M</td>\n",
       "      <td>White</td>\n",
       "      <td>Unknown</td>\n",
       "      <td>-</td>\n",
       "      <td>2015-06-09T00:00:00</td>\n",
       "      <td>19:32:00</td>\n",
       "      <td>-</td>\n",
       "      <td>-</td>\n",
       "      <td>None</td>\n",
       "      <td>NORTH PCT 2ND W - NORA</td>\n",
       "      <td>N</td>\n",
       "      <td>N</td>\n",
       "      <td>-</td>\n",
       "      <td>-</td>\n",
       "      <td>-</td>\n",
       "    </tr>\n",
       "  </tbody>\n",
       "</table>\n",
       "</div>"
      ],
      "text/plain": [
       "  subject_age_group  subject_id     go_/_sc_num  terry_stop_id  \\\n",
       "0           36 - 45          -1  20140000120677          92317   \n",
       "1           18 - 25          -1  20150000001670          32260   \n",
       "2            1 - 17          -1  20150000002451          46430   \n",
       "3            1 - 17          -1  20150000002815          51725   \n",
       "4           26 - 35          -1  20150000002815          51727   \n",
       "\n",
       "  stop_resolution weapon_type officer_id  officer_yob officer_gender  \\\n",
       "0          Arrest        None     7500           1984              M   \n",
       "1   Field Contact        None     7539           1963              M   \n",
       "2   Field Contact        None     7591           1985              M   \n",
       "3   Field Contact        None     7456           1979              M   \n",
       "4   Field Contact        None     7456           1979              M   \n",
       "\n",
       "                officer_race subject_perceived_race subject_perceived_gender  \\\n",
       "0  Black or African American                  Asian                     Male   \n",
       "1                      White                Unknown                        -   \n",
       "2         Hispanic or Latino                Unknown                        -   \n",
       "3                      White                Unknown                        -   \n",
       "4                      White                Unknown                        -   \n",
       "\n",
       "         reported_date reported_time initial_call_type final_call_type  \\\n",
       "0  2015-10-16T00:00:00      11:32:00                 -               -   \n",
       "1  2015-04-01T00:00:00      04:55:00                 -               -   \n",
       "2  2015-05-25T00:00:00      01:06:00                 -               -   \n",
       "3  2015-06-09T00:00:00      19:27:00                 -               -   \n",
       "4  2015-06-09T00:00:00      19:32:00                 -               -   \n",
       "\n",
       "  call_type             officer_squad arrest_flag frisk_flag precinct  sector  \\\n",
       "0      None  SOUTH PCT 1ST W - ROBERT           N          N    South  O        \n",
       "1      None                       NaN           N          N        -       -   \n",
       "2      None     WEST PCT 3RD W - MARY           N          N        -       -   \n",
       "3      None    NORTH PCT 2ND W - NORA           N          N        -       -   \n",
       "4      None    NORTH PCT 2ND W - NORA           N          N        -       -   \n",
       "\n",
       "     beat  \n",
       "0  O2      \n",
       "1       -  \n",
       "2       -  \n",
       "3       -  \n",
       "4       -  "
      ]
     },
     "execution_count": 2,
     "metadata": {},
     "output_type": "execute_result"
    }
   ],
   "source": [
    "# Load data file\n",
    "df = pd.read_csv('terry-clean.csv')\n",
    "pd.set_option('display.max_columns', 999)\n",
    "df.head()\n",
    "\n",
    "# Delete subject id"
   ]
  },
  {
   "cell_type": "code",
   "execution_count": 3,
   "metadata": {
    "scrolled": false
   },
   "outputs": [
    {
     "data": {
      "text/html": [
       "<div>\n",
       "<style scoped>\n",
       "    .dataframe tbody tr th:only-of-type {\n",
       "        vertical-align: middle;\n",
       "    }\n",
       "\n",
       "    .dataframe tbody tr th {\n",
       "        vertical-align: top;\n",
       "    }\n",
       "\n",
       "    .dataframe thead th {\n",
       "        text-align: right;\n",
       "    }\n",
       "</style>\n",
       "<table border=\"1\" class=\"dataframe\">\n",
       "  <thead>\n",
       "    <tr style=\"text-align: right;\">\n",
       "      <th></th>\n",
       "      <th>subject_id</th>\n",
       "      <th>go_/_sc_num</th>\n",
       "      <th>terry_stop_id</th>\n",
       "      <th>officer_yob</th>\n",
       "    </tr>\n",
       "  </thead>\n",
       "  <tbody>\n",
       "    <tr>\n",
       "      <td>count</td>\n",
       "      <td>4.031300e+04</td>\n",
       "      <td>4.031300e+04</td>\n",
       "      <td>4.031300e+04</td>\n",
       "      <td>40313.000000</td>\n",
       "    </tr>\n",
       "    <tr>\n",
       "      <td>mean</td>\n",
       "      <td>1.213040e+09</td>\n",
       "      <td>2.017155e+13</td>\n",
       "      <td>1.503510e+09</td>\n",
       "      <td>1982.277131</td>\n",
       "    </tr>\n",
       "    <tr>\n",
       "      <td>std</td>\n",
       "      <td>3.046154e+09</td>\n",
       "      <td>1.471057e+10</td>\n",
       "      <td>3.722270e+09</td>\n",
       "      <td>8.834036</td>\n",
       "    </tr>\n",
       "    <tr>\n",
       "      <td>min</td>\n",
       "      <td>-1.000000e+00</td>\n",
       "      <td>2.009000e+13</td>\n",
       "      <td>2.802000e+04</td>\n",
       "      <td>1900.000000</td>\n",
       "    </tr>\n",
       "    <tr>\n",
       "      <td>25%</td>\n",
       "      <td>-1.000000e+00</td>\n",
       "      <td>2.016000e+13</td>\n",
       "      <td>1.572900e+05</td>\n",
       "      <td>1977.000000</td>\n",
       "    </tr>\n",
       "    <tr>\n",
       "      <td>50%</td>\n",
       "      <td>-1.000000e+00</td>\n",
       "      <td>2.017000e+13</td>\n",
       "      <td>3.184670e+05</td>\n",
       "      <td>1984.000000</td>\n",
       "    </tr>\n",
       "    <tr>\n",
       "      <td>75%</td>\n",
       "      <td>-1.000000e+00</td>\n",
       "      <td>2.018000e+13</td>\n",
       "      <td>5.052170e+05</td>\n",
       "      <td>1989.000000</td>\n",
       "    </tr>\n",
       "    <tr>\n",
       "      <td>max</td>\n",
       "      <td>1.275286e+10</td>\n",
       "      <td>2.020000e+13</td>\n",
       "      <td>1.275287e+10</td>\n",
       "      <td>1997.000000</td>\n",
       "    </tr>\n",
       "  </tbody>\n",
       "</table>\n",
       "</div>"
      ],
      "text/plain": [
       "         subject_id   go_/_sc_num  terry_stop_id   officer_yob\n",
       "count  4.031300e+04  4.031300e+04   4.031300e+04  40313.000000\n",
       "mean   1.213040e+09  2.017155e+13   1.503510e+09   1982.277131\n",
       "std    3.046154e+09  1.471057e+10   3.722270e+09      8.834036\n",
       "min   -1.000000e+00  2.009000e+13   2.802000e+04   1900.000000\n",
       "25%   -1.000000e+00  2.016000e+13   1.572900e+05   1977.000000\n",
       "50%   -1.000000e+00  2.017000e+13   3.184670e+05   1984.000000\n",
       "75%   -1.000000e+00  2.018000e+13   5.052170e+05   1989.000000\n",
       "max    1.275286e+10  2.020000e+13   1.275287e+10   1997.000000"
      ]
     },
     "execution_count": 3,
     "metadata": {},
     "output_type": "execute_result"
    }
   ],
   "source": [
    "df.describe()"
   ]
  },
  {
   "cell_type": "markdown",
   "metadata": {},
   "source": [
    "# Build a base model\n",
    "\n",
    "First set the target: arrest flag"
   ]
  },
  {
   "cell_type": "code",
   "execution_count": 4,
   "metadata": {
    "scrolled": true
   },
   "outputs": [
    {
     "data": {
      "text/plain": [
       "0    0\n",
       "1    0\n",
       "2    0\n",
       "3    0\n",
       "4    0\n",
       "Name: arrest_flag, dtype: int64"
      ]
     },
     "execution_count": 4,
     "metadata": {},
     "output_type": "execute_result"
    }
   ],
   "source": [
    "# Set target\n",
    "y = df.arrest_flag\n",
    "y = y.replace('N', 0).replace('Y', 1)\n",
    "y.head()"
   ]
  },
  {
   "cell_type": "markdown",
   "metadata": {},
   "source": [
    "## Arrest flag is imbalanced"
   ]
  },
  {
   "cell_type": "code",
   "execution_count": 26,
   "metadata": {},
   "outputs": [
    {
     "data": {
      "text/plain": [
       "N    38707\n",
       "Y     1606\n",
       "Name: arrest_flag, dtype: int64"
      ]
     },
     "execution_count": 26,
     "metadata": {},
     "output_type": "execute_result"
    }
   ],
   "source": [
    "# Vies arrest flag indicator\n",
    "df.arrest_flag.value_counts()"
   ]
  },
  {
   "cell_type": "markdown",
   "metadata": {},
   "source": [
    "## Random Forest:\n",
    "I will use a random forest with the top attributes to build a baseline model.\n",
    "* frisk flag\n",
    "* call type\n",
    "* subject age group\n",
    "* subject perceived gender\n",
    "* subject perceived race\n",
    "* reported time - will create categories manually"
   ]
  },
  {
   "cell_type": "code",
   "execution_count": 5,
   "metadata": {},
   "outputs": [
    {
     "data": {
      "text/html": [
       "<div>\n",
       "<style scoped>\n",
       "    .dataframe tbody tr th:only-of-type {\n",
       "        vertical-align: middle;\n",
       "    }\n",
       "\n",
       "    .dataframe tbody tr th {\n",
       "        vertical-align: top;\n",
       "    }\n",
       "\n",
       "    .dataframe thead th {\n",
       "        text-align: right;\n",
       "    }\n",
       "</style>\n",
       "<table border=\"1\" class=\"dataframe\">\n",
       "  <thead>\n",
       "    <tr style=\"text-align: right;\">\n",
       "      <th></th>\n",
       "      <th>frisk_flag</th>\n",
       "      <th>call_type</th>\n",
       "      <th>subject_age_group</th>\n",
       "      <th>subject_perceived_gender</th>\n",
       "      <th>subject_perceived_race</th>\n",
       "    </tr>\n",
       "  </thead>\n",
       "  <tbody>\n",
       "    <tr>\n",
       "      <td>0</td>\n",
       "      <td>N</td>\n",
       "      <td>None</td>\n",
       "      <td>36 - 45</td>\n",
       "      <td>Male</td>\n",
       "      <td>Asian</td>\n",
       "    </tr>\n",
       "    <tr>\n",
       "      <td>1</td>\n",
       "      <td>N</td>\n",
       "      <td>None</td>\n",
       "      <td>18 - 25</td>\n",
       "      <td>-</td>\n",
       "      <td>Unknown</td>\n",
       "    </tr>\n",
       "    <tr>\n",
       "      <td>2</td>\n",
       "      <td>N</td>\n",
       "      <td>None</td>\n",
       "      <td>1 - 17</td>\n",
       "      <td>-</td>\n",
       "      <td>Unknown</td>\n",
       "    </tr>\n",
       "    <tr>\n",
       "      <td>3</td>\n",
       "      <td>N</td>\n",
       "      <td>None</td>\n",
       "      <td>1 - 17</td>\n",
       "      <td>-</td>\n",
       "      <td>Unknown</td>\n",
       "    </tr>\n",
       "    <tr>\n",
       "      <td>4</td>\n",
       "      <td>N</td>\n",
       "      <td>None</td>\n",
       "      <td>26 - 35</td>\n",
       "      <td>-</td>\n",
       "      <td>Unknown</td>\n",
       "    </tr>\n",
       "  </tbody>\n",
       "</table>\n",
       "</div>"
      ],
      "text/plain": [
       "  frisk_flag call_type subject_age_group subject_perceived_gender  \\\n",
       "0          N      None           36 - 45                     Male   \n",
       "1          N      None           18 - 25                        -   \n",
       "2          N      None            1 - 17                        -   \n",
       "3          N      None            1 - 17                        -   \n",
       "4          N      None           26 - 35                        -   \n",
       "\n",
       "  subject_perceived_race  \n",
       "0                  Asian  \n",
       "1                Unknown  \n",
       "2                Unknown  \n",
       "3                Unknown  \n",
       "4                Unknown  "
      ]
     },
     "execution_count": 5,
     "metadata": {},
     "output_type": "execute_result"
    }
   ],
   "source": [
    "# Top features to try\n",
    "X = df[['frisk_flag', 'call_type', 'subject_age_group', 'subject_perceived_gender', 'subject_perceived_race']]\n",
    "X.head()"
   ]
  },
  {
   "cell_type": "markdown",
   "metadata": {},
   "source": [
    "### Create dummy variables"
   ]
  },
  {
   "cell_type": "code",
   "execution_count": 6,
   "metadata": {
    "scrolled": false
   },
   "outputs": [
    {
     "data": {
      "text/html": [
       "<div>\n",
       "<style scoped>\n",
       "    .dataframe tbody tr th:only-of-type {\n",
       "        vertical-align: middle;\n",
       "    }\n",
       "\n",
       "    .dataframe tbody tr th {\n",
       "        vertical-align: top;\n",
       "    }\n",
       "\n",
       "    .dataframe thead th {\n",
       "        text-align: right;\n",
       "    }\n",
       "</style>\n",
       "<table border=\"1\" class=\"dataframe\">\n",
       "  <thead>\n",
       "    <tr style=\"text-align: right;\">\n",
       "      <th></th>\n",
       "      <th>frisk_flag_-</th>\n",
       "      <th>frisk_flag_N</th>\n",
       "      <th>frisk_flag_Y</th>\n",
       "      <th>call_type_911</th>\n",
       "      <th>call_type_None</th>\n",
       "      <th>call_type_ONVIEW</th>\n",
       "      <th>call_type_Other</th>\n",
       "      <th>subject_age_group_1 - 17</th>\n",
       "      <th>subject_age_group_18 - 25</th>\n",
       "      <th>subject_age_group_26 - 35</th>\n",
       "      <th>subject_age_group_36 - 45</th>\n",
       "      <th>subject_age_group_46 - 55</th>\n",
       "      <th>subject_age_group_56 and Above</th>\n",
       "      <th>subject_perceived_gender_-</th>\n",
       "      <th>subject_perceived_gender_Female</th>\n",
       "      <th>subject_perceived_gender_Gender Diverse (gender non-conforming and/or transgender)</th>\n",
       "      <th>subject_perceived_gender_Male</th>\n",
       "      <th>subject_perceived_gender_Unable to Determine</th>\n",
       "      <th>subject_perceived_gender_Unknown</th>\n",
       "      <th>subject_perceived_race_American Indian or Alaska Native</th>\n",
       "      <th>subject_perceived_race_Asian</th>\n",
       "      <th>subject_perceived_race_Black or African American</th>\n",
       "      <th>subject_perceived_race_Hispanic</th>\n",
       "      <th>subject_perceived_race_Multi-Racial</th>\n",
       "      <th>subject_perceived_race_Native Hawaiian or Other Pacific Islander</th>\n",
       "      <th>subject_perceived_race_Other</th>\n",
       "      <th>subject_perceived_race_Unknown</th>\n",
       "      <th>subject_perceived_race_White</th>\n",
       "    </tr>\n",
       "  </thead>\n",
       "  <tbody>\n",
       "    <tr>\n",
       "      <td>0</td>\n",
       "      <td>0</td>\n",
       "      <td>1</td>\n",
       "      <td>0</td>\n",
       "      <td>0</td>\n",
       "      <td>1</td>\n",
       "      <td>0</td>\n",
       "      <td>0</td>\n",
       "      <td>0</td>\n",
       "      <td>0</td>\n",
       "      <td>0</td>\n",
       "      <td>1</td>\n",
       "      <td>0</td>\n",
       "      <td>0</td>\n",
       "      <td>0</td>\n",
       "      <td>0</td>\n",
       "      <td>0</td>\n",
       "      <td>1</td>\n",
       "      <td>0</td>\n",
       "      <td>0</td>\n",
       "      <td>0</td>\n",
       "      <td>1</td>\n",
       "      <td>0</td>\n",
       "      <td>0</td>\n",
       "      <td>0</td>\n",
       "      <td>0</td>\n",
       "      <td>0</td>\n",
       "      <td>0</td>\n",
       "      <td>0</td>\n",
       "    </tr>\n",
       "    <tr>\n",
       "      <td>1</td>\n",
       "      <td>0</td>\n",
       "      <td>1</td>\n",
       "      <td>0</td>\n",
       "      <td>0</td>\n",
       "      <td>1</td>\n",
       "      <td>0</td>\n",
       "      <td>0</td>\n",
       "      <td>0</td>\n",
       "      <td>1</td>\n",
       "      <td>0</td>\n",
       "      <td>0</td>\n",
       "      <td>0</td>\n",
       "      <td>0</td>\n",
       "      <td>1</td>\n",
       "      <td>0</td>\n",
       "      <td>0</td>\n",
       "      <td>0</td>\n",
       "      <td>0</td>\n",
       "      <td>0</td>\n",
       "      <td>0</td>\n",
       "      <td>0</td>\n",
       "      <td>0</td>\n",
       "      <td>0</td>\n",
       "      <td>0</td>\n",
       "      <td>0</td>\n",
       "      <td>0</td>\n",
       "      <td>1</td>\n",
       "      <td>0</td>\n",
       "    </tr>\n",
       "    <tr>\n",
       "      <td>2</td>\n",
       "      <td>0</td>\n",
       "      <td>1</td>\n",
       "      <td>0</td>\n",
       "      <td>0</td>\n",
       "      <td>1</td>\n",
       "      <td>0</td>\n",
       "      <td>0</td>\n",
       "      <td>1</td>\n",
       "      <td>0</td>\n",
       "      <td>0</td>\n",
       "      <td>0</td>\n",
       "      <td>0</td>\n",
       "      <td>0</td>\n",
       "      <td>1</td>\n",
       "      <td>0</td>\n",
       "      <td>0</td>\n",
       "      <td>0</td>\n",
       "      <td>0</td>\n",
       "      <td>0</td>\n",
       "      <td>0</td>\n",
       "      <td>0</td>\n",
       "      <td>0</td>\n",
       "      <td>0</td>\n",
       "      <td>0</td>\n",
       "      <td>0</td>\n",
       "      <td>0</td>\n",
       "      <td>1</td>\n",
       "      <td>0</td>\n",
       "    </tr>\n",
       "    <tr>\n",
       "      <td>3</td>\n",
       "      <td>0</td>\n",
       "      <td>1</td>\n",
       "      <td>0</td>\n",
       "      <td>0</td>\n",
       "      <td>1</td>\n",
       "      <td>0</td>\n",
       "      <td>0</td>\n",
       "      <td>1</td>\n",
       "      <td>0</td>\n",
       "      <td>0</td>\n",
       "      <td>0</td>\n",
       "      <td>0</td>\n",
       "      <td>0</td>\n",
       "      <td>1</td>\n",
       "      <td>0</td>\n",
       "      <td>0</td>\n",
       "      <td>0</td>\n",
       "      <td>0</td>\n",
       "      <td>0</td>\n",
       "      <td>0</td>\n",
       "      <td>0</td>\n",
       "      <td>0</td>\n",
       "      <td>0</td>\n",
       "      <td>0</td>\n",
       "      <td>0</td>\n",
       "      <td>0</td>\n",
       "      <td>1</td>\n",
       "      <td>0</td>\n",
       "    </tr>\n",
       "    <tr>\n",
       "      <td>4</td>\n",
       "      <td>0</td>\n",
       "      <td>1</td>\n",
       "      <td>0</td>\n",
       "      <td>0</td>\n",
       "      <td>1</td>\n",
       "      <td>0</td>\n",
       "      <td>0</td>\n",
       "      <td>0</td>\n",
       "      <td>0</td>\n",
       "      <td>1</td>\n",
       "      <td>0</td>\n",
       "      <td>0</td>\n",
       "      <td>0</td>\n",
       "      <td>1</td>\n",
       "      <td>0</td>\n",
       "      <td>0</td>\n",
       "      <td>0</td>\n",
       "      <td>0</td>\n",
       "      <td>0</td>\n",
       "      <td>0</td>\n",
       "      <td>0</td>\n",
       "      <td>0</td>\n",
       "      <td>0</td>\n",
       "      <td>0</td>\n",
       "      <td>0</td>\n",
       "      <td>0</td>\n",
       "      <td>1</td>\n",
       "      <td>0</td>\n",
       "    </tr>\n",
       "  </tbody>\n",
       "</table>\n",
       "</div>"
      ],
      "text/plain": [
       "   frisk_flag_-  frisk_flag_N  frisk_flag_Y  call_type_911  call_type_None  \\\n",
       "0             0             1             0              0               1   \n",
       "1             0             1             0              0               1   \n",
       "2             0             1             0              0               1   \n",
       "3             0             1             0              0               1   \n",
       "4             0             1             0              0               1   \n",
       "\n",
       "   call_type_ONVIEW  call_type_Other  subject_age_group_1 - 17  \\\n",
       "0                 0                0                         0   \n",
       "1                 0                0                         0   \n",
       "2                 0                0                         1   \n",
       "3                 0                0                         1   \n",
       "4                 0                0                         0   \n",
       "\n",
       "   subject_age_group_18 - 25  subject_age_group_26 - 35  \\\n",
       "0                          0                          0   \n",
       "1                          1                          0   \n",
       "2                          0                          0   \n",
       "3                          0                          0   \n",
       "4                          0                          1   \n",
       "\n",
       "   subject_age_group_36 - 45  subject_age_group_46 - 55  \\\n",
       "0                          1                          0   \n",
       "1                          0                          0   \n",
       "2                          0                          0   \n",
       "3                          0                          0   \n",
       "4                          0                          0   \n",
       "\n",
       "   subject_age_group_56 and Above  subject_perceived_gender_-  \\\n",
       "0                               0                           0   \n",
       "1                               0                           1   \n",
       "2                               0                           1   \n",
       "3                               0                           1   \n",
       "4                               0                           1   \n",
       "\n",
       "   subject_perceived_gender_Female  \\\n",
       "0                                0   \n",
       "1                                0   \n",
       "2                                0   \n",
       "3                                0   \n",
       "4                                0   \n",
       "\n",
       "   subject_perceived_gender_Gender Diverse (gender non-conforming and/or transgender)  \\\n",
       "0                                                  0                                    \n",
       "1                                                  0                                    \n",
       "2                                                  0                                    \n",
       "3                                                  0                                    \n",
       "4                                                  0                                    \n",
       "\n",
       "   subject_perceived_gender_Male  \\\n",
       "0                              1   \n",
       "1                              0   \n",
       "2                              0   \n",
       "3                              0   \n",
       "4                              0   \n",
       "\n",
       "   subject_perceived_gender_Unable to Determine  \\\n",
       "0                                             0   \n",
       "1                                             0   \n",
       "2                                             0   \n",
       "3                                             0   \n",
       "4                                             0   \n",
       "\n",
       "   subject_perceived_gender_Unknown  \\\n",
       "0                                 0   \n",
       "1                                 0   \n",
       "2                                 0   \n",
       "3                                 0   \n",
       "4                                 0   \n",
       "\n",
       "   subject_perceived_race_American Indian or Alaska Native  \\\n",
       "0                                                  0         \n",
       "1                                                  0         \n",
       "2                                                  0         \n",
       "3                                                  0         \n",
       "4                                                  0         \n",
       "\n",
       "   subject_perceived_race_Asian  \\\n",
       "0                             1   \n",
       "1                             0   \n",
       "2                             0   \n",
       "3                             0   \n",
       "4                             0   \n",
       "\n",
       "   subject_perceived_race_Black or African American  \\\n",
       "0                                                 0   \n",
       "1                                                 0   \n",
       "2                                                 0   \n",
       "3                                                 0   \n",
       "4                                                 0   \n",
       "\n",
       "   subject_perceived_race_Hispanic  subject_perceived_race_Multi-Racial  \\\n",
       "0                                0                                    0   \n",
       "1                                0                                    0   \n",
       "2                                0                                    0   \n",
       "3                                0                                    0   \n",
       "4                                0                                    0   \n",
       "\n",
       "   subject_perceived_race_Native Hawaiian or Other Pacific Islander  \\\n",
       "0                                                  0                  \n",
       "1                                                  0                  \n",
       "2                                                  0                  \n",
       "3                                                  0                  \n",
       "4                                                  0                  \n",
       "\n",
       "   subject_perceived_race_Other  subject_perceived_race_Unknown  \\\n",
       "0                             0                               0   \n",
       "1                             0                               1   \n",
       "2                             0                               1   \n",
       "3                             0                               1   \n",
       "4                             0                               1   \n",
       "\n",
       "   subject_perceived_race_White  \n",
       "0                             0  \n",
       "1                             0  \n",
       "2                             0  \n",
       "3                             0  \n",
       "4                             0  "
      ]
     },
     "metadata": {},
     "output_type": "display_data"
    }
   ],
   "source": [
    "# Create dummy variables\n",
    "data = pd.get_dummies(X)\n",
    "display(data.head())\n"
   ]
  },
  {
   "cell_type": "markdown",
   "metadata": {},
   "source": [
    "## Separate reported time"
   ]
  },
  {
   "cell_type": "code",
   "execution_count": 7,
   "metadata": {},
   "outputs": [
    {
     "data": {
      "text/plain": [
       "0    11\n",
       "1     4\n",
       "2     1\n",
       "3    19\n",
       "4    19\n",
       "Name: reported_time, dtype: int64"
      ]
     },
     "execution_count": 7,
     "metadata": {},
     "output_type": "execute_result"
    }
   ],
   "source": [
    "# Observe the hour\n",
    "df.reported_time = df.reported_time.str[:2].astype('int')\n",
    "df.reported_time.head()\n"
   ]
  },
  {
   "cell_type": "code",
   "execution_count": 8,
   "metadata": {},
   "outputs": [
    {
     "data": {
      "image/png": "[encoded data removed]",
      "text/plain": [
       "<Figure size 432x288 with 1 Axes>"
      ]
     },
     "metadata": {
      "needs_background": "light"
     },
     "output_type": "display_data"
    }
   ],
   "source": [
    "sns.distplot(df.reported_time)\n",
    "plt.title('Times')\n",
    "plt.show()"
   ]
  },
  {
   "cell_type": "code",
   "execution_count": 9,
   "metadata": {},
   "outputs": [
    {
     "data": {
      "text/plain": [
       "0     (6, 12]\n",
       "1      (0, 6]\n",
       "2      (0, 6]\n",
       "3    (18, 24]\n",
       "4    (18, 24]\n",
       "Name: reported_time, dtype: category\n",
       "Categories (4, interval[int64]): [(0, 6] < (6, 12] < (12, 18] < (18, 24]]"
      ]
     },
     "execution_count": 9,
     "metadata": {},
     "output_type": "execute_result"
    }
   ],
   "source": [
    "# Create bins\n",
    "bins = [0, 6, 12, 18, 24]\n",
    "\n",
    "# Use pd.cut()\n",
    "bins_time = pd.cut(df.reported_time, bins)\n",
    "\n",
    "# Using pd.cut() returns unordered categories. Transform to ordered.\n",
    "bins_time = bins_time.cat.as_ordered() \n",
    "bins_time.head()"
   ]
  },
  {
   "cell_type": "code",
   "execution_count": 10,
   "metadata": {},
   "outputs": [
    {
     "data": {
      "text/plain": [
       "Text(0.5, 1.0, 'Time Bins')"
      ]
     },
     "execution_count": 10,
     "metadata": {},
     "output_type": "execute_result"
    },
    {
     "data": {
      "image/png": "[encoded data removed]",
      "text/plain": [
       "<Figure size 432x288 with 1 Axes>"
      ]
     },
     "metadata": {
      "needs_background": "light"
     },
     "output_type": "display_data"
    }
   ],
   "source": [
    "# Plot the values\n",
    "bins_time.value_counts().plot(kind='bar')\n",
    "plt.title('Time Bins')"
   ]
  },
  {
   "cell_type": "code",
   "execution_count": 11,
   "metadata": {},
   "outputs": [],
   "source": [
    "# Replace the existing \n",
    "df.reported_time = bins_time"
   ]
  },
  {
   "cell_type": "code",
   "execution_count": 12,
   "metadata": {},
   "outputs": [
    {
     "data": {
      "text/plain": [
       "0    1\n",
       "1    0\n",
       "2    0\n",
       "3    3\n",
       "4    3\n",
       "Name: reported_time, dtype: int8"
      ]
     },
     "execution_count": 12,
     "metadata": {},
     "output_type": "execute_result"
    }
   ],
   "source": [
    "# Perfom label encoding\n",
    "df.reported_time = df.reported_time.cat.codes\n",
    "df.reported_time.head()"
   ]
  },
  {
   "cell_type": "code",
   "execution_count": 13,
   "metadata": {},
   "outputs": [
    {
     "data": {
      "text/html": [
       "<div>\n",
       "<style scoped>\n",
       "    .dataframe tbody tr th:only-of-type {\n",
       "        vertical-align: middle;\n",
       "    }\n",
       "\n",
       "    .dataframe tbody tr th {\n",
       "        vertical-align: top;\n",
       "    }\n",
       "\n",
       "    .dataframe thead th {\n",
       "        text-align: right;\n",
       "    }\n",
       "</style>\n",
       "<table border=\"1\" class=\"dataframe\">\n",
       "  <thead>\n",
       "    <tr style=\"text-align: right;\">\n",
       "      <th></th>\n",
       "      <th>frisk_flag_-</th>\n",
       "      <th>frisk_flag_N</th>\n",
       "      <th>frisk_flag_Y</th>\n",
       "      <th>call_type_911</th>\n",
       "      <th>call_type_None</th>\n",
       "      <th>call_type_ONVIEW</th>\n",
       "      <th>call_type_Other</th>\n",
       "      <th>subject_age_group_1 - 17</th>\n",
       "      <th>subject_age_group_18 - 25</th>\n",
       "      <th>subject_age_group_26 - 35</th>\n",
       "      <th>subject_age_group_36 - 45</th>\n",
       "      <th>subject_age_group_46 - 55</th>\n",
       "      <th>subject_age_group_56 and Above</th>\n",
       "      <th>subject_perceived_gender_-</th>\n",
       "      <th>subject_perceived_gender_Female</th>\n",
       "      <th>subject_perceived_gender_Gender Diverse (gender non-conforming and/or transgender)</th>\n",
       "      <th>subject_perceived_gender_Male</th>\n",
       "      <th>subject_perceived_gender_Unable to Determine</th>\n",
       "      <th>subject_perceived_gender_Unknown</th>\n",
       "      <th>subject_perceived_race_American Indian or Alaska Native</th>\n",
       "      <th>subject_perceived_race_Asian</th>\n",
       "      <th>subject_perceived_race_Black or African American</th>\n",
       "      <th>subject_perceived_race_Hispanic</th>\n",
       "      <th>subject_perceived_race_Multi-Racial</th>\n",
       "      <th>subject_perceived_race_Native Hawaiian or Other Pacific Islander</th>\n",
       "      <th>subject_perceived_race_Other</th>\n",
       "      <th>subject_perceived_race_Unknown</th>\n",
       "      <th>subject_perceived_race_White</th>\n",
       "      <th>reported_time</th>\n",
       "    </tr>\n",
       "  </thead>\n",
       "  <tbody>\n",
       "    <tr>\n",
       "      <td>0</td>\n",
       "      <td>0</td>\n",
       "      <td>1</td>\n",
       "      <td>0</td>\n",
       "      <td>0</td>\n",
       "      <td>1</td>\n",
       "      <td>0</td>\n",
       "      <td>0</td>\n",
       "      <td>0</td>\n",
       "      <td>0</td>\n",
       "      <td>0</td>\n",
       "      <td>1</td>\n",
       "      <td>0</td>\n",
       "      <td>0</td>\n",
       "      <td>0</td>\n",
       "      <td>0</td>\n",
       "      <td>0</td>\n",
       "      <td>1</td>\n",
       "      <td>0</td>\n",
       "      <td>0</td>\n",
       "      <td>0</td>\n",
       "      <td>1</td>\n",
       "      <td>0</td>\n",
       "      <td>0</td>\n",
       "      <td>0</td>\n",
       "      <td>0</td>\n",
       "      <td>0</td>\n",
       "      <td>0</td>\n",
       "      <td>0</td>\n",
       "      <td>1</td>\n",
       "    </tr>\n",
       "    <tr>\n",
       "      <td>1</td>\n",
       "      <td>0</td>\n",
       "      <td>1</td>\n",
       "      <td>0</td>\n",
       "      <td>0</td>\n",
       "      <td>1</td>\n",
       "      <td>0</td>\n",
       "      <td>0</td>\n",
       "      <td>0</td>\n",
       "      <td>1</td>\n",
       "      <td>0</td>\n",
       "      <td>0</td>\n",
       "      <td>0</td>\n",
       "      <td>0</td>\n",
       "      <td>1</td>\n",
       "      <td>0</td>\n",
       "      <td>0</td>\n",
       "      <td>0</td>\n",
       "      <td>0</td>\n",
       "      <td>0</td>\n",
       "      <td>0</td>\n",
       "      <td>0</td>\n",
       "      <td>0</td>\n",
       "      <td>0</td>\n",
       "      <td>0</td>\n",
       "      <td>0</td>\n",
       "      <td>0</td>\n",
       "      <td>1</td>\n",
       "      <td>0</td>\n",
       "      <td>0</td>\n",
       "    </tr>\n",
       "    <tr>\n",
       "      <td>2</td>\n",
       "      <td>0</td>\n",
       "      <td>1</td>\n",
       "      <td>0</td>\n",
       "      <td>0</td>\n",
       "      <td>1</td>\n",
       "      <td>0</td>\n",
       "      <td>0</td>\n",
       "      <td>1</td>\n",
       "      <td>0</td>\n",
       "      <td>0</td>\n",
       "      <td>0</td>\n",
       "      <td>0</td>\n",
       "      <td>0</td>\n",
       "      <td>1</td>\n",
       "      <td>0</td>\n",
       "      <td>0</td>\n",
       "      <td>0</td>\n",
       "      <td>0</td>\n",
       "      <td>0</td>\n",
       "      <td>0</td>\n",
       "      <td>0</td>\n",
       "      <td>0</td>\n",
       "      <td>0</td>\n",
       "      <td>0</td>\n",
       "      <td>0</td>\n",
       "      <td>0</td>\n",
       "      <td>1</td>\n",
       "      <td>0</td>\n",
       "      <td>0</td>\n",
       "    </tr>\n",
       "    <tr>\n",
       "      <td>3</td>\n",
       "      <td>0</td>\n",
       "      <td>1</td>\n",
       "      <td>0</td>\n",
       "      <td>0</td>\n",
       "      <td>1</td>\n",
       "      <td>0</td>\n",
       "      <td>0</td>\n",
       "      <td>1</td>\n",
       "      <td>0</td>\n",
       "      <td>0</td>\n",
       "      <td>0</td>\n",
       "      <td>0</td>\n",
       "      <td>0</td>\n",
       "      <td>1</td>\n",
       "      <td>0</td>\n",
       "      <td>0</td>\n",
       "      <td>0</td>\n",
       "      <td>0</td>\n",
       "      <td>0</td>\n",
       "      <td>0</td>\n",
       "      <td>0</td>\n",
       "      <td>0</td>\n",
       "      <td>0</td>\n",
       "      <td>0</td>\n",
       "      <td>0</td>\n",
       "      <td>0</td>\n",
       "      <td>1</td>\n",
       "      <td>0</td>\n",
       "      <td>3</td>\n",
       "    </tr>\n",
       "    <tr>\n",
       "      <td>4</td>\n",
       "      <td>0</td>\n",
       "      <td>1</td>\n",
       "      <td>0</td>\n",
       "      <td>0</td>\n",
       "      <td>1</td>\n",
       "      <td>0</td>\n",
       "      <td>0</td>\n",
       "      <td>0</td>\n",
       "      <td>0</td>\n",
       "      <td>1</td>\n",
       "      <td>0</td>\n",
       "      <td>0</td>\n",
       "      <td>0</td>\n",
       "      <td>1</td>\n",
       "      <td>0</td>\n",
       "      <td>0</td>\n",
       "      <td>0</td>\n",
       "      <td>0</td>\n",
       "      <td>0</td>\n",
       "      <td>0</td>\n",
       "      <td>0</td>\n",
       "      <td>0</td>\n",
       "      <td>0</td>\n",
       "      <td>0</td>\n",
       "      <td>0</td>\n",
       "      <td>0</td>\n",
       "      <td>1</td>\n",
       "      <td>0</td>\n",
       "      <td>3</td>\n",
       "    </tr>\n",
       "  </tbody>\n",
       "</table>\n",
       "</div>"
      ],
      "text/plain": [
       "   frisk_flag_-  frisk_flag_N  frisk_flag_Y  call_type_911  call_type_None  \\\n",
       "0             0             1             0              0               1   \n",
       "1             0             1             0              0               1   \n",
       "2             0             1             0              0               1   \n",
       "3             0             1             0              0               1   \n",
       "4             0             1             0              0               1   \n",
       "\n",
       "   call_type_ONVIEW  call_type_Other  subject_age_group_1 - 17  \\\n",
       "0                 0                0                         0   \n",
       "1                 0                0                         0   \n",
       "2                 0                0                         1   \n",
       "3                 0                0                         1   \n",
       "4                 0                0                         0   \n",
       "\n",
       "   subject_age_group_18 - 25  subject_age_group_26 - 35  \\\n",
       "0                          0                          0   \n",
       "1                          1                          0   \n",
       "2                          0                          0   \n",
       "3                          0                          0   \n",
       "4                          0                          1   \n",
       "\n",
       "   subject_age_group_36 - 45  subject_age_group_46 - 55  \\\n",
       "0                          1                          0   \n",
       "1                          0                          0   \n",
       "2                          0                          0   \n",
       "3                          0                          0   \n",
       "4                          0                          0   \n",
       "\n",
       "   subject_age_group_56 and Above  subject_perceived_gender_-  \\\n",
       "0                               0                           0   \n",
       "1                               0                           1   \n",
       "2                               0                           1   \n",
       "3                               0                           1   \n",
       "4                               0                           1   \n",
       "\n",
       "   subject_perceived_gender_Female  \\\n",
       "0                                0   \n",
       "1                                0   \n",
       "2                                0   \n",
       "3                                0   \n",
       "4                                0   \n",
       "\n",
       "   subject_perceived_gender_Gender Diverse (gender non-conforming and/or transgender)  \\\n",
       "0                                                  0                                    \n",
       "1                                                  0                                    \n",
       "2                                                  0                                    \n",
       "3                                                  0                                    \n",
       "4                                                  0                                    \n",
       "\n",
       "   subject_perceived_gender_Male  \\\n",
       "0                              1   \n",
       "1                              0   \n",
       "2                              0   \n",
       "3                              0   \n",
       "4                              0   \n",
       "\n",
       "   subject_perceived_gender_Unable to Determine  \\\n",
       "0                                             0   \n",
       "1                                             0   \n",
       "2                                             0   \n",
       "3                                             0   \n",
       "4                                             0   \n",
       "\n",
       "   subject_perceived_gender_Unknown  \\\n",
       "0                                 0   \n",
       "1                                 0   \n",
       "2                                 0   \n",
       "3                                 0   \n",
       "4                                 0   \n",
       "\n",
       "   subject_perceived_race_American Indian or Alaska Native  \\\n",
       "0                                                  0         \n",
       "1                                                  0         \n",
       "2                                                  0         \n",
       "3                                                  0         \n",
       "4                                                  0         \n",
       "\n",
       "   subject_perceived_race_Asian  \\\n",
       "0                             1   \n",
       "1                             0   \n",
       "2                             0   \n",
       "3                             0   \n",
       "4                             0   \n",
       "\n",
       "   subject_perceived_race_Black or African American  \\\n",
       "0                                                 0   \n",
       "1                                                 0   \n",
       "2                                                 0   \n",
       "3                                                 0   \n",
       "4                                                 0   \n",
       "\n",
       "   subject_perceived_race_Hispanic  subject_perceived_race_Multi-Racial  \\\n",
       "0                                0                                    0   \n",
       "1                                0                                    0   \n",
       "2                                0                                    0   \n",
       "3                                0                                    0   \n",
       "4                                0                                    0   \n",
       "\n",
       "   subject_perceived_race_Native Hawaiian or Other Pacific Islander  \\\n",
       "0                                                  0                  \n",
       "1                                                  0                  \n",
       "2                                                  0                  \n",
       "3                                                  0                  \n",
       "4                                                  0                  \n",
       "\n",
       "   subject_perceived_race_Other  subject_perceived_race_Unknown  \\\n",
       "0                             0                               0   \n",
       "1                             0                               1   \n",
       "2                             0                               1   \n",
       "3                             0                               1   \n",
       "4                             0                               1   \n",
       "\n",
       "   subject_perceived_race_White  reported_time  \n",
       "0                             0              1  \n",
       "1                             0              0  \n",
       "2                             0              0  \n",
       "3                             0              3  \n",
       "4                             0              3  "
      ]
     },
     "execution_count": 13,
     "metadata": {},
     "output_type": "execute_result"
    }
   ],
   "source": [
    "# Add reported time category to other categoricals\n",
    "data['reported_time'] = df.reported_time\n",
    "data.head()"
   ]
  },
  {
   "cell_type": "code",
   "execution_count": 14,
   "metadata": {},
   "outputs": [],
   "source": [
    "# Save the categorical data to use on other pages (notebooks)\n",
    "data.to_csv('terry-cat-dummies.csv', index = False) "
   ]
  },
  {
   "cell_type": "markdown",
   "metadata": {},
   "source": [
    "## Train/test the data\n",
    "Using a decision tree to create the base model and find features. "
   ]
  },
  {
   "cell_type": "code",
   "execution_count": 14,
   "metadata": {},
   "outputs": [],
   "source": [
    "# Split the train and test sets\n",
    "data_train, data_test, target_train, target_test = train_test_split(data, y, \n",
    "                                                                    test_size = 0.25)"
   ]
  },
  {
   "cell_type": "code",
   "execution_count": 15,
   "metadata": {},
   "outputs": [
    {
     "data": {
      "text/plain": [
       "DecisionTreeClassifier(class_weight=None, criterion='gini', max_depth=5,\n",
       "                       max_features=None, max_leaf_nodes=None,\n",
       "                       min_impurity_decrease=0.0, min_impurity_split=None,\n",
       "                       min_samples_leaf=1, min_samples_split=2,\n",
       "                       min_weight_fraction_leaf=0.0, presort=False,\n",
       "                       random_state=None, splitter='best')"
      ]
     },
     "execution_count": 15,
     "metadata": {},
     "output_type": "execute_result"
    }
   ],
   "source": [
    "# Instantiate and fit a DecisionTreeClassifier\n",
    "tree_clf = DecisionTreeClassifier(criterion='gini', max_depth=5) \n",
    "tree_clf.fit(data_train, target_train)"
   ]
  },
  {
   "cell_type": "code",
   "execution_count": 16,
   "metadata": {},
   "outputs": [
    {
     "data": {
      "text/plain": [
       "array([0.00000000e+00, 0.00000000e+00, 2.49669200e-03, 4.24286550e-02,\n",
       "       6.60435945e-01, 0.00000000e+00, 0.00000000e+00, 5.24803952e-02,\n",
       "       6.62793139e-02, 1.86177281e-04, 1.93325366e-03, 6.42079511e-04,\n",
       "       9.09909252e-03, 0.00000000e+00, 1.98643729e-03, 0.00000000e+00,\n",
       "       0.00000000e+00, 0.00000000e+00, 0.00000000e+00, 0.00000000e+00,\n",
       "       1.90665462e-03, 0.00000000e+00, 9.82043956e-02, 7.25680643e-03,\n",
       "       1.48525210e-02, 0.00000000e+00, 2.33068609e-04, 3.96379315e-03,\n",
       "       3.56147189e-02])"
      ]
     },
     "metadata": {},
     "output_type": "display_data"
    }
   ],
   "source": [
    "# Examine feature importance\n",
    "display(tree_clf.feature_importances_)"
   ]
  },
  {
   "cell_type": "markdown",
   "metadata": {},
   "source": [
    "## Plot the important features"
   ]
  },
  {
   "cell_type": "code",
   "execution_count": 17,
   "metadata": {},
   "outputs": [
    {
     "data": {
      "image/png": "[encoded data removed]",
      "text/plain": [
       "<Figure size 576x936 with 1 Axes>"
      ]
     },
     "metadata": {
      "needs_background": "light"
     },
     "output_type": "display_data"
    }
   ],
   "source": [
    "# Plot of the important features\n",
    "def plot_feature_importances(model):\n",
    "    n_features = data_train.shape[1]\n",
    "    plt.figure(figsize=(8,13))\n",
    "    plt.barh(range(n_features), model.feature_importances_, align='center') \n",
    "    plt.yticks(np.arange(n_features), data_train.columns.values) \n",
    "    plt.xlabel('Feature importance')\n",
    "    plt.ylabel('Feature')\n",
    "\n",
    "plot_feature_importances(tree_clf)\n"
   ]
  },
  {
   "cell_type": "markdown",
   "metadata": {},
   "source": [
    "## Model Performance\n",
    "Generate predictions, print out confusion matrix, and a classification report."
   ]
  },
  {
   "cell_type": "code",
   "execution_count": 18,
   "metadata": {},
   "outputs": [
    {
     "name": "stdout",
     "output_type": "stream",
     "text": [
      "[[9710    1]\n",
      " [ 368    0]]\n",
      "              precision    recall  f1-score   support\n",
      "\n",
      "           0       0.96      1.00      0.98      9711\n",
      "           1       0.00      0.00      0.00       368\n",
      "\n",
      "    accuracy                           0.96     10079\n",
      "   macro avg       0.48      0.50      0.49     10079\n",
      "weighted avg       0.93      0.96      0.95     10079\n",
      "\n"
     ]
    }
   ],
   "source": [
    "# Test set predictions\n",
    "pred = tree_clf.predict(data_test)\n",
    "\n",
    "# Confusion matrix and classification report\n",
    "print(confusion_matrix(target_test, pred))\n",
    "print(classification_report(target_test, pred))"
   ]
  },
  {
   "cell_type": "code",
   "execution_count": null,
   "metadata": {},
   "outputs": [],
   "source": [
    "np.set_printoptions(precision=2)\n",
    "\n",
    "# Plot non-normalized confusion matrix\n",
    "titles_options = [(\"Confusion matrix, without normalization\", None),\n",
    "                  (\"Normalized confusion matrix\", 'true')]\n",
    "for title, normalize in titles_options:\n",
    "    disp = plot_confusion_matrix(classifier, X_test, y_test,\n",
    "                                 display_labels=class_names,\n",
    "                                 cmap=plt.cm.Blues,\n",
    "                                 normalize=normalize)\n",
    "    disp.ax_.set_title(title)\n",
    "\n",
    "    print(title)\n",
    "    print(disp.confusion_matrix)\n",
    "\n",
    "plt.show()"
   ]
  },
  {
   "cell_type": "markdown",
   "metadata": {},
   "source": [
    "This model predicts all of the negatives and none of the positives. As a model it's predictive nature leaves much to be desired. \n",
    "\n",
    "# View a tree"
   ]
  },
  {
   "cell_type": "code",
   "execution_count": 19,
   "metadata": {},
   "outputs": [
    {
     "name": "stderr",
     "output_type": "stream",
     "text": [
      "/Users/shirlwilliams/opt/anaconda3/envs/learn-env/lib/python3.6/site-packages/sklearn/externals/six.py:31: DeprecationWarning: The module is deprecated in version 0.21 and will be removed in version 0.23 since we've dropped support for Python 2.7. Please rely on the official version of six (https://pypi.org/project/six/).\n",
      "  \"(https://pypi.org/project/six/).\", DeprecationWarning)\n"
     ]
    }
   ],
   "source": [
    "# Needed imports\n",
    "from sklearn.externals.six import StringIO\n",
    "from IPython.display import Image\n",
    "from sklearn.tree import export_graphviz\n",
    "import pydotplus"
   ]
  },
  {
   "cell_type": "code",
   "execution_count": 30,
   "metadata": {},
   "outputs": [],
   "source": [
    "# Get a tree\n",
    "tree_0 = tree_clf.estimators_[0]\n",
    "tree_0"
   ]
  },
  {
   "cell_type": "code",
   "execution_count": 31,
   "metadata": {},
   "outputs": [],
   "source": [
    "# Draw a tree\n",
    "dot_data = StringIO()\n",
    "export_graphviz(tree_0, out_file=dot_data, filled=True, special_characters=True)\n",
    "graph = pydotplus.graph_from_dot_data(dot_data.getvalue())\n",
    "Image(graph.create_png())"
   ]
  },
  {
   "cell_type": "markdown",
   "metadata": {},
   "source": [
    "# Bagged trees"
   ]
  },
  {
   "cell_type": "code",
   "execution_count": 24,
   "metadata": {},
   "outputs": [],
   "source": [
    "# Instantiate a BaggingClassifier\n",
    "bagged_tree = BaggingClassifier(DecisionTreeClassifier(criterion='gini', max_depth=5), n_estimators=20)\n",
    "\n",
    "# Fit to training data\n",
    "bagged_tree.fit(data_train, target_train)"
   ]
  },
  {
   "cell_type": "code",
   "execution_count": 25,
   "metadata": {},
   "outputs": [],
   "source": [
    "# Training accuracy score\n",
    "scr = bagged_tree.score(data_train, target_train)\n",
    "print('Training Accuracy: ' + str(scr))\n",
    "\n",
    "# Test accuracy score\n",
    "scr = bagged_tree.score(data_test, target_test)\n",
    "print('Test Accuracy: ' + str(scr))"
   ]
  },
  {
   "cell_type": "markdown",
   "metadata": {},
   "source": [
    "# Random Forest Model"
   ]
  },
  {
   "cell_type": "code",
   "execution_count": 26,
   "metadata": {},
   "outputs": [],
   "source": [
    "# Instantiate and fit a RandomForestClassifier\n",
    "forest = RandomForestClassifier(n_estimators=100, max_depth= 5)\n",
    "forest.fit(data_train, target_train)"
   ]
  },
  {
   "cell_type": "code",
   "execution_count": 27,
   "metadata": {},
   "outputs": [],
   "source": [
    "# Training accuracy score\n",
    "scr = forest.score(data_train, target_train)\n",
    "print('Training Accuracy: ' + str(scr))\n",
    "\n",
    "# Test accuracy score\n",
    "scr = forest.score(data_test, target_test)\n",
    "print('Test Accuracy: ' + str(scr))"
   ]
  },
  {
   "cell_type": "code",
   "execution_count": 28,
   "metadata": {},
   "outputs": [],
   "source": [
    "# Feature Importance\n",
    "plot_feature_importances(forest)"
   ]
  },
  {
   "cell_type": "markdown",
   "metadata": {},
   "source": [
    "## Trees in the forest"
   ]
  },
  {
   "cell_type": "code",
   "execution_count": 29,
   "metadata": {},
   "outputs": [],
   "source": [
    "# Instantiate and fit a RandomForestClassifier\n",
    "forest_2 = RandomForestClassifier(n_estimators = 5, max_features= 10, max_depth= 2)\n",
    "forest_2.fit(data_train, target_train)"
   ]
  },
  {
   "cell_type": "code",
   "execution_count": null,
   "metadata": {},
   "outputs": [],
   "source": [
    "# First tree from forest_2\n",
    "rf_tree_1 = forest_2.estimators_[0]\n",
    "\n",
    "# Feature importance\n",
    "plot_feature_importances(rf_tree_1)"
   ]
  },
  {
   "cell_type": "code",
   "execution_count": null,
   "metadata": {},
   "outputs": [],
   "source": [
    "# Second tree from forest_2\n",
    "rf_tree_2 = forest_2.estimators_[1]\n",
    "\n",
    "# Feature importance\n",
    "plot_feature_importances(rf_tree_2)"
   ]
  },
  {
   "cell_type": "code",
   "execution_count": null,
   "metadata": {},
   "outputs": [],
   "source": [
    "# Third tree from forest_2\n",
    "rf_tree_3 = forest_2.estimators_[2]\n",
    "\n",
    "# Feature importance\n",
    "plot_feature_importances(rf_tree_3)"
   ]
  },
  {
   "cell_type": "code",
   "execution_count": null,
   "metadata": {},
   "outputs": [],
   "source": [
    "# Fourth tree from forest_2\n",
    "rf_tree_4 = forest_2.estimators_[3]\n",
    "\n",
    "# Feature importance\n",
    "plot_feature_importances(rf_tree_4)"
   ]
  },
  {
   "cell_type": "code",
   "execution_count": null,
   "metadata": {},
   "outputs": [],
   "source": [
    "# Fifth tree from forest_2\n",
    "rf_tree_5 = forest_2.estimators_[4]\n",
    "\n",
    "# Feature importance\n",
    "plot_feature_importances(rf_tree_5)"
   ]
  },
  {
   "cell_type": "markdown",
   "metadata": {},
   "source": [
    "# Logistic Regression Model\n",
    "Since we have class imbalance with None to everything else, let's try the Logistic Regression Model."
   ]
  },
  {
   "cell_type": "code",
   "execution_count": 28,
   "metadata": {},
   "outputs": [
    {
     "name": "stdout",
     "output_type": "stream",
     "text": [
      "0    28996\n",
      "1     1238\n",
      "Name: arrest_flag, dtype: int64\n",
      "0    9711\n",
      "1     368\n",
      "Name: arrest_flag, dtype: int64\n"
     ]
    }
   ],
   "source": [
    "# Find class imbalance in the training and test sets\n",
    "print(target_train.value_counts())\n",
    "print(target_test.value_counts())"
   ]
  },
  {
   "cell_type": "code",
   "execution_count": 30,
   "metadata": {
    "scrolled": true
   },
   "outputs": [
    {
     "name": "stdout",
     "output_type": "stream",
     "text": [
      "AUC: 0.7070395573374881\n"
     ]
    },
    {
     "data": {
      "image/png": "[encoded data removed]",
      "text/plain": [
       "<Figure size 720x576 with 1 Axes>"
      ]
     },
     "metadata": {},
     "output_type": "display_data"
    }
   ],
   "source": [
    "# Initial Logistic Model\n",
    "logreg = LogisticRegression(fit_intercept=False, solver='liblinear')\n",
    "\n",
    "# Probability scores for test set\n",
    "target_score = logreg.fit(data_train, target_train).decision_function(data_test)\n",
    "\n",
    "# False positive rate and true positive rate\n",
    "fpr, tpr, thresholds = roc_curve(target_test, target_score)\n",
    "\n",
    "# Seaborn's beautiful styling\n",
    "sns.set_style('darkgrid', {'axes.facecolor': '0.9'})\n",
    "\n",
    "# Print AUC\n",
    "print('AUC: {}'.format(auc(fpr, tpr)))\n",
    "\n",
    "# Plot the ROC curve\n",
    "plt.figure(figsize=(10, 8))\n",
    "lw = 2\n",
    "plt.plot(fpr, tpr, color='darkorange',\n",
    "         lw=lw, label='ROC curve')\n",
    "plt.plot([0, 1], [0, 1], color='navy', lw=lw, linestyle='--')\n",
    "plt.xlim([0.0, 1.0])\n",
    "plt.ylim([0.0, 1.05])\n",
    "plt.yticks([i/20.0 for i in range(21)])\n",
    "plt.xticks([i/20.0 for i in range(21)])\n",
    "plt.xlabel('False Positive Rate')\n",
    "plt.ylabel('True Positive Rate')\n",
    "plt.title('Receiver operating characteristic (ROC) Curve')\n",
    "plt.legend(loc='lower right')\n",
    "plt.show()"
   ]
  },
  {
   "cell_type": "code",
   "execution_count": 31,
   "metadata": {},
   "outputs": [],
   "source": [
    "# Plot a confusion matrix\n",
    "def plot_confusion_matrix(cm, classes,\n",
    "                          normalize=False,\n",
    "                          title='Confusion matrix',\n",
    "                          cmap=plt.cm.Blues):\n",
    "    #Add Normalization Option\n",
    "    if normalize:\n",
    "        cm = cm.astype('float') / cm.sum(axis=1)[:, np.newaxis]\n",
    "        print('Normalized confusion matrix')\n",
    "    else:\n",
    "        print('Confusion matrix, without normalization')\n",
    "\n",
    "    print(cm)\n",
    "\n",
    "    plt.imshow(cm, interpolation='nearest', cmap=cmap)\n",
    "    plt.title(title)\n",
    "    plt.colorbar()\n",
    "    tick_marks = np.arange(len(classes))\n",
    "    plt.xticks(tick_marks, classes, rotation=45)\n",
    "    plt.yticks(tick_marks, classes)\n",
    "\n",
    "    fmt = '.2f' if normalize else 'd'\n",
    "    thresh = cm.max() / 2.\n",
    "    for i, j in itertools.product(range(cm.shape[0]), range(cm.shape[1])):\n",
    "        plt.text(j, i, format(cm[i, j], fmt),\n",
    "                 horizontalalignment='center',\n",
    "                 color='white' if cm[i, j] > thresh else 'black')\n",
    "\n",
    "    plt.tight_layout()\n",
    "    plt.ylabel('True label')\n",
    "    plt.xlabel('Predicted label')"
   ]
  },
  {
   "cell_type": "code",
   "execution_count": 32,
   "metadata": {
    "scrolled": true
   },
   "outputs": [
    {
     "name": "stdout",
     "output_type": "stream",
     "text": [
      "Confusion matrix, without normalization\n",
      "[[9711  368]\n",
      " [   0    0]]\n"
     ]
    },
    {
     "data": {
      "image/png": "[encoded data removed]",
      "text/plain": [
       "<Figure size 432x288 with 2 Axes>"
      ]
     },
     "metadata": {},
     "output_type": "display_data"
    }
   ],
   "source": [
    "# Plot confusion matrix of the test set \n",
    "target_hat_test = logreg.predict(data_test)\n",
    "cnf_matrix = confusion_matrix(target_hat_test, target_test)\n",
    "plot_confusion_matrix(cnf_matrix, classes=[0, 1])"
   ]
  },
  {
   "cell_type": "markdown",
   "metadata": {},
   "source": [
    "# Tune the model\n",
    "Trying various techniques to tune the model."
   ]
  },
  {
   "cell_type": "code",
   "execution_count": 33,
   "metadata": {},
   "outputs": [
    {
     "name": "stdout",
     "output_type": "stream",
     "text": [
      "LogisticRegression(C=0.001, class_weight=None, dual=False, fit_intercept=False,\n",
      "                   intercept_scaling=1, l1_ratio=None, max_iter=100,\n",
      "                   multi_class='warn', n_jobs=None, penalty='l2',\n",
      "                   random_state=None, solver='liblinear', tol=0.0001, verbose=0,\n",
      "                   warm_start=False)\n",
      "AUC for 0.001: 0.5609112872896267\n",
      "-------------------------------------------------------\n",
      "LogisticRegression(C=0.01, class_weight=None, dual=False, fit_intercept=False,\n",
      "                   intercept_scaling=1, l1_ratio=None, max_iter=100,\n",
      "                   multi_class='warn', n_jobs=None, penalty='l2',\n",
      "                   random_state=None, solver='liblinear', tol=0.0001, verbose=0,\n",
      "                   warm_start=False)\n",
      "AUC for 0.01: 0.6652749515341186\n",
      "-------------------------------------------------------\n",
      "LogisticRegression(C=0.1, class_weight=None, dual=False, fit_intercept=False,\n",
      "                   intercept_scaling=1, l1_ratio=None, max_iter=100,\n",
      "                   multi_class='warn', n_jobs=None, penalty='l2',\n",
      "                   random_state=None, solver='liblinear', tol=0.0001, verbose=0,\n",
      "                   warm_start=False)\n",
      "AUC for 0.1: 0.6991165610043295\n",
      "-------------------------------------------------------\n",
      "LogisticRegression(C=1, class_weight=None, dual=False, fit_intercept=False,\n",
      "                   intercept_scaling=1, l1_ratio=None, max_iter=100,\n",
      "                   multi_class='warn', n_jobs=None, penalty='l2',\n",
      "                   random_state=None, solver='liblinear', tol=0.0001, verbose=0,\n",
      "                   warm_start=False)\n",
      "AUC for 1: 0.7070395573374881\n",
      "-------------------------------------------------------\n",
      "LogisticRegression(C=10, class_weight=None, dual=False, fit_intercept=False,\n",
      "                   intercept_scaling=1, l1_ratio=None, max_iter=100,\n",
      "                   multi_class='warn', n_jobs=None, penalty='l2',\n",
      "                   random_state=None, solver='liblinear', tol=0.0001, verbose=0,\n",
      "                   warm_start=False)\n",
      "AUC for 10: 0.7090657781628185\n",
      "-------------------------------------------------------\n",
      "LogisticRegression(C=100, class_weight=None, dual=False, fit_intercept=False,\n",
      "                   intercept_scaling=1, l1_ratio=None, max_iter=100,\n",
      "                   multi_class='warn', n_jobs=None, penalty='l2',\n",
      "                   random_state=None, solver='liblinear', tol=0.0001, verbose=0,\n",
      "                   warm_start=False)\n",
      "AUC for 100: 0.7091869428662252\n",
      "-------------------------------------------------------\n"
     ]
    },
    {
     "data": {
      "image/png": "[encoded data removed]",
      "text/plain": [
       "<Figure size 720x576 with 1 Axes>"
      ]
     },
     "metadata": {},
     "output_type": "display_data"
    }
   ],
   "source": [
    "# Now let's compare a few different regularization performances on the dataset:\n",
    "C_param_range = [0.001, 0.01, 0.1, 1, 10, 100]\n",
    "names = [0.001, 0.01, 0.1, 1, 10, 100]\n",
    "colors = sns.color_palette('Set2')\n",
    "\n",
    "plt.figure(figsize=(10, 8))\n",
    "\n",
    "for n, c in enumerate(C_param_range):\n",
    "    # Fit a model\n",
    "    logreg = LogisticRegression(fit_intercept=False, C=c, solver='liblinear')\n",
    "    model_log = logreg.fit(data_train, target_train)\n",
    "    print(model_log) # Preview model params\n",
    "\n",
    "    # Predict\n",
    "    target_hat_test = logreg.predict(data_test)\n",
    "\n",
    "    target_score = logreg.fit(data_train, target_train).decision_function(data_test)\n",
    "\n",
    "    fpr, tpr, thresholds = roc_curve(target_test, target_score)\n",
    "    \n",
    "    print('AUC for {}: {}'.format(names[n], auc(fpr, tpr)))\n",
    "    print('-------------------------------------------------------')\n",
    "    lw = 2\n",
    "    plt.plot(fpr, tpr, color=colors[n],\n",
    "             lw=lw, label='ROC curve Normalization Weight: {}'.format(names[n]))\n",
    "\n",
    "plt.plot([0, 1], [0, 1], color='navy', lw=lw, linestyle='--')\n",
    "plt.xlim([0.0, 1.0])\n",
    "plt.ylim([0.0, 1.05])\n",
    "\n",
    "plt.yticks([i/20.0 for i in range(21)])\n",
    "plt.xticks([i/20.0 for i in range(21)])\n",
    "plt.xlabel('False Positive Rate')\n",
    "plt.ylabel('True Positive Rate')\n",
    "plt.title('Receiver operating characteristic (ROC) Curve')\n",
    "plt.legend(loc='lower right')\n",
    "plt.show()"
   ]
  },
  {
   "cell_type": "markdown",
   "metadata": {},
   "source": [
    "## SMOTE\n",
    "Will use the Smote class from the imblearn package to improve the model's performance on the minority class."
   ]
  },
  {
   "cell_type": "code",
   "execution_count": 34,
   "metadata": {},
   "outputs": [
    {
     "name": "stdout",
     "output_type": "stream",
     "text": [
      "0    28996\n",
      "1     1238\n",
      "Name: arrest_flag, dtype: int64\n",
      "\n",
      "\n",
      "1    28996\n",
      "0    28996\n",
      "dtype: int64\n"
     ]
    }
   ],
   "source": [
    "# Previous original class distribution\n",
    "print(target_train.value_counts()) \n",
    "\n",
    "# Fit SMOTE to training data\n",
    "data_train_resampled, target_train_resampled = SMOTE().fit_sample(data_train, target_train) \n",
    "\n",
    "# Preview synthetic sample class distribution\n",
    "print('\\n')\n",
    "print(pd.Series(target_train_resampled).value_counts()) "
   ]
  },
  {
   "cell_type": "markdown",
   "metadata": {},
   "source": [
    "## Build modes with resampled training data:"
   ]
  },
  {
   "cell_type": "code",
   "execution_count": 35,
   "metadata": {},
   "outputs": [
    {
     "name": "stdout",
     "output_type": "stream",
     "text": [
      "LogisticRegression(C=0.005, class_weight=None, dual=False, fit_intercept=False,\n",
      "                   intercept_scaling=1, l1_ratio=None, max_iter=100,\n",
      "                   multi_class='warn', n_jobs=None, penalty='l2',\n",
      "                   random_state=None, solver='liblinear', tol=0.0001, verbose=0,\n",
      "                   warm_start=False)\n",
      "AUC for 0.005: 0.6953456244151635\n",
      "-------------------------------------------------------\n",
      "LogisticRegression(C=0.1, class_weight=None, dual=False, fit_intercept=False,\n",
      "                   intercept_scaling=1, l1_ratio=None, max_iter=100,\n",
      "                   multi_class='warn', n_jobs=None, penalty='l2',\n",
      "                   random_state=None, solver='liblinear', tol=0.0001, verbose=0,\n",
      "                   warm_start=False)\n",
      "AUC for 0.1: 0.6966054015392674\n",
      "-------------------------------------------------------\n",
      "LogisticRegression(C=0.2, class_weight=None, dual=False, fit_intercept=False,\n",
      "                   intercept_scaling=1, l1_ratio=None, max_iter=100,\n",
      "                   multi_class='warn', n_jobs=None, penalty='l2',\n",
      "                   random_state=None, solver='liblinear', tol=0.0001, verbose=0,\n",
      "                   warm_start=False)\n",
      "AUC for 0.2: 0.6964361067458238\n",
      "-------------------------------------------------------\n",
      "LogisticRegression(C=0.5, class_weight=None, dual=False, fit_intercept=False,\n",
      "                   intercept_scaling=1, l1_ratio=None, max_iter=100,\n",
      "                   multi_class='warn', n_jobs=None, penalty='l2',\n",
      "                   random_state=None, solver='liblinear', tol=0.0001, verbose=0,\n",
      "                   warm_start=False)\n",
      "AUC for 0.5: 0.6957939058351578\n",
      "-------------------------------------------------------\n",
      "LogisticRegression(C=0.8, class_weight=None, dual=False, fit_intercept=False,\n",
      "                   intercept_scaling=1, l1_ratio=None, max_iter=100,\n",
      "                   multi_class='warn', n_jobs=None, penalty='l2',\n",
      "                   random_state=None, solver='liblinear', tol=0.0001, verbose=0,\n",
      "                   warm_start=False)\n",
      "AUC for 0.8: 0.6953719280690208\n",
      "-------------------------------------------------------\n",
      "LogisticRegression(C=1, class_weight=None, dual=False, fit_intercept=False,\n",
      "                   intercept_scaling=1, l1_ratio=None, max_iter=100,\n",
      "                   multi_class='warn', n_jobs=None, penalty='l2',\n",
      "                   random_state=None, solver='liblinear', tol=0.0001, verbose=0,\n",
      "                   warm_start=False)\n",
      "AUC for 1: 0.6951172863135933\n",
      "-------------------------------------------------------\n",
      "LogisticRegression(C=1.25, class_weight=None, dual=False, fit_intercept=False,\n",
      "                   intercept_scaling=1, l1_ratio=None, max_iter=100,\n",
      "                   multi_class='warn', n_jobs=None, penalty='l2',\n",
      "                   random_state=None, solver='liblinear', tol=0.0001, verbose=0,\n",
      "                   warm_start=False)\n",
      "AUC for 1.25: 0.695024384046778\n",
      "-------------------------------------------------------\n",
      "LogisticRegression(C=1.5, class_weight=None, dual=False, fit_intercept=False,\n",
      "                   intercept_scaling=1, l1_ratio=None, max_iter=100,\n",
      "                   multi_class='warn', n_jobs=None, penalty='l2',\n",
      "                   random_state=None, solver='liblinear', tol=0.0001, verbose=0,\n",
      "                   warm_start=False)\n",
      "AUC for 1.5: 0.6949001412562177\n",
      "-------------------------------------------------------\n",
      "LogisticRegression(C=2, class_weight=None, dual=False, fit_intercept=False,\n",
      "                   intercept_scaling=1, l1_ratio=None, max_iter=100,\n",
      "                   multi_class='warn', n_jobs=None, penalty='l2',\n",
      "                   random_state=None, solver='liblinear', tol=0.0001, verbose=0,\n",
      "                   warm_start=False)\n",
      "AUC for 2: 0.6947213323752088\n",
      "-------------------------------------------------------\n"
     ]
    },
    {
     "data": {
      "image/png": "[encoded data removed]",
      "text/plain": [
       "<Figure size 720x576 with 1 Axes>"
      ]
     },
     "metadata": {},
     "output_type": "display_data"
    }
   ],
   "source": [
    "# Now let's compare a few different regularization performances on the dataset\n",
    "C_param_range = [0.005, 0.1, 0.2, 0.5, 0.8, 1, 1.25, 1.5, 2]\n",
    "names = [0.005, 0.1, 0.2, 0.5, 0.8, 1, 1.25, 1.5, 2]\n",
    "colors = sns.color_palette('Set2', n_colors=len(names))\n",
    "\n",
    "plt.figure(figsize=(10, 8))\n",
    "\n",
    "for n, c in enumerate(C_param_range):\n",
    "    # Fit a model\n",
    "    logreg = LogisticRegression(fit_intercept=False, C=c, solver='liblinear')\n",
    "    model_log = logreg.fit(data_train_resampled, target_train_resampled)\n",
    "    print(model_log) # Preview model params\n",
    "\n",
    "    # Predict\n",
    "    target_hat_test = logreg.predict(data_test)\n",
    "\n",
    "    target_score = logreg.fit(data_train_resampled, target_train_resampled).decision_function(data_test)\n",
    "\n",
    "    fpr, tpr, thresholds = roc_curve(target_test, target_score)\n",
    "    \n",
    "    print('AUC for {}: {}'.format(names[n], auc(fpr, tpr)))\n",
    "    print('-------------------------------------------------------')\n",
    "    \n",
    "    lw = 2\n",
    "    plt.plot(fpr, tpr, color=colors[n],\n",
    "             lw=lw, label='ROC curve Regularization Weight: {}'.format(names[n]))\n",
    "\n",
    "plt.plot([0, 1], [0, 1], color='navy', lw=lw, linestyle='--')\n",
    "plt.xlim([0.0, 1.0])\n",
    "plt.ylim([0.0, 1.05])\n",
    "plt.yticks([i/20.0 for i in range(21)])\n",
    "plt.xticks([i/20.0 for i in range(21)])\n",
    "plt.xlabel('False Positive Rate')\n",
    "plt.ylabel('True Positive Rate')\n",
    "plt.title('Receiver operating characteristic (ROC) Curve')\n",
    "plt.legend(loc='lower right')\n",
    "plt.show()"
   ]
  },
  {
   "cell_type": "markdown",
   "metadata": {},
   "source": [
    "## The models don't support prediction."
   ]
  },
  {
   "cell_type": "markdown",
   "metadata": {},
   "source": [
    "### Summary\n",
    "Significant features contributing to the model:\n",
    "* Call type None is the only significant feature.\n",
    "Other features with minor implications may be:\n",
    "* Call type 911\n",
    "* Subject age group 18 - 25\n",
    "* Subject perceived race Hispanic"
   ]
  },
  {
   "cell_type": "code",
   "execution_count": null,
   "metadata": {},
   "outputs": [],
   "source": []
  }
 ],
 "metadata": {
  "kernelspec": {
   "display_name": "Python [conda env:learn-env] *",
   "language": "python",
   "name": "conda-env-learn-env-py"
  },
  "language_info": {
   "codemirror_mode": {
    "name": "ipython",
    "version": 3
   },
   "file_extension": ".py",
   "mimetype": "text/x-python",
   "name": "python",
   "nbconvert_exporter": "python",
   "pygments_lexer": "ipython3",
   "version": "3.6.9"
  },
  "toc": {
   "base_numbering": 1,
   "nav_menu": {},
   "number_sections": false,
   "sideBar": true,
   "skip_h1_title": false,
   "title_cell": "Table of Contents",
   "title_sidebar": "Contents",
   "toc_cell": false,
   "toc_position": {},
   "toc_section_display": true,
   "toc_window_display": true
  }
 },
 "nbformat": 4,
 "nbformat_minor": 2
}
