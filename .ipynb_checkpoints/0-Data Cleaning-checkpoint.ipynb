{
 "cells": [
  {
   "cell_type": "markdown",
   "metadata": {},
   "source": [
    "# Module 3 Project - Terry Stops\n",
    "In Terry v. Ohio, a landmark Supreme Court case in 1967-1968, the court found that a police officer was not in violation of the \"unreasonable search and seizure\" clause of the Fourth Amendment, even though he stopped and frisked a couple of suspects only because their behavior was suspicious. Thus was born the notion of \"reasonable suspicion\", according to which an agent of the police may e.g. temporarily detain a person, even in the absence of clearer evidence that would be required for full-blown arrests etc. Terry Stops are stops made of suspicious drivers."
   ]
  },
  {
   "cell_type": "markdown",
   "metadata": {},
   "source": [
    "# Imports and the Data\n",
    "Let us see what types of data we have and begin data cleaning by evaluating missing values."
   ]
  },
  {
   "cell_type": "code",
   "execution_count": 32,
   "metadata": {},
   "outputs": [],
   "source": [
    "# Necessary imports\n",
    "import pandas as pd\n",
    "import numpy as np\n",
    "import matplotlib as plt\n",
    "import re\n",
    "import pickle\n",
    "from datetime import datetime"
   ]
  },
  {
   "cell_type": "code",
   "execution_count": 71,
   "metadata": {},
   "outputs": [
    {
     "data": {
      "text/html": [
       "<div>\n",
       "<style scoped>\n",
       "    .dataframe tbody tr th:only-of-type {\n",
       "        vertical-align: middle;\n",
       "    }\n",
       "\n",
       "    .dataframe tbody tr th {\n",
       "        vertical-align: top;\n",
       "    }\n",
       "\n",
       "    .dataframe thead th {\n",
       "        text-align: right;\n",
       "    }\n",
       "</style>\n",
       "<table border=\"1\" class=\"dataframe\">\n",
       "  <thead>\n",
       "    <tr style=\"text-align: right;\">\n",
       "      <th></th>\n",
       "      <th>Subject Age Group</th>\n",
       "      <th>Subject ID</th>\n",
       "      <th>GO / SC Num</th>\n",
       "      <th>Terry Stop ID</th>\n",
       "      <th>Stop Resolution</th>\n",
       "      <th>Weapon Type</th>\n",
       "      <th>Officer ID</th>\n",
       "      <th>Officer YOB</th>\n",
       "      <th>Officer Gender</th>\n",
       "      <th>Officer Race</th>\n",
       "      <th>...</th>\n",
       "      <th>Reported Time</th>\n",
       "      <th>Initial Call Type</th>\n",
       "      <th>Final Call Type</th>\n",
       "      <th>Call Type</th>\n",
       "      <th>Officer Squad</th>\n",
       "      <th>Arrest Flag</th>\n",
       "      <th>Frisk Flag</th>\n",
       "      <th>Precinct</th>\n",
       "      <th>Sector</th>\n",
       "      <th>Beat</th>\n",
       "    </tr>\n",
       "  </thead>\n",
       "  <tbody>\n",
       "    <tr>\n",
       "      <td>0</td>\n",
       "      <td>-</td>\n",
       "      <td>-1</td>\n",
       "      <td>20140000120677</td>\n",
       "      <td>92317</td>\n",
       "      <td>Arrest</td>\n",
       "      <td>None</td>\n",
       "      <td>7500</td>\n",
       "      <td>1984</td>\n",
       "      <td>M</td>\n",
       "      <td>Black or African American</td>\n",
       "      <td>...</td>\n",
       "      <td>11:32:00</td>\n",
       "      <td>-</td>\n",
       "      <td>-</td>\n",
       "      <td>-</td>\n",
       "      <td>SOUTH PCT 1ST W - ROBERT</td>\n",
       "      <td>N</td>\n",
       "      <td>N</td>\n",
       "      <td>South</td>\n",
       "      <td>O</td>\n",
       "      <td>O2</td>\n",
       "    </tr>\n",
       "    <tr>\n",
       "      <td>1</td>\n",
       "      <td>-</td>\n",
       "      <td>-1</td>\n",
       "      <td>20150000001670</td>\n",
       "      <td>32260</td>\n",
       "      <td>Field Contact</td>\n",
       "      <td>None</td>\n",
       "      <td>7539</td>\n",
       "      <td>1963</td>\n",
       "      <td>M</td>\n",
       "      <td>White</td>\n",
       "      <td>...</td>\n",
       "      <td>04:55:00</td>\n",
       "      <td>-</td>\n",
       "      <td>-</td>\n",
       "      <td>-</td>\n",
       "      <td>NaN</td>\n",
       "      <td>N</td>\n",
       "      <td>N</td>\n",
       "      <td>-</td>\n",
       "      <td>-</td>\n",
       "      <td>-</td>\n",
       "    </tr>\n",
       "    <tr>\n",
       "      <td>2</td>\n",
       "      <td>-</td>\n",
       "      <td>-1</td>\n",
       "      <td>20150000002451</td>\n",
       "      <td>46430</td>\n",
       "      <td>Field Contact</td>\n",
       "      <td>None</td>\n",
       "      <td>7591</td>\n",
       "      <td>1985</td>\n",
       "      <td>M</td>\n",
       "      <td>Hispanic or Latino</td>\n",
       "      <td>...</td>\n",
       "      <td>01:06:00</td>\n",
       "      <td>-</td>\n",
       "      <td>-</td>\n",
       "      <td>-</td>\n",
       "      <td>WEST PCT 3RD W - MARY</td>\n",
       "      <td>N</td>\n",
       "      <td>N</td>\n",
       "      <td>-</td>\n",
       "      <td>-</td>\n",
       "      <td>-</td>\n",
       "    </tr>\n",
       "    <tr>\n",
       "      <td>3</td>\n",
       "      <td>-</td>\n",
       "      <td>-1</td>\n",
       "      <td>20150000002815</td>\n",
       "      <td>51725</td>\n",
       "      <td>Field Contact</td>\n",
       "      <td>None</td>\n",
       "      <td>7456</td>\n",
       "      <td>1979</td>\n",
       "      <td>M</td>\n",
       "      <td>White</td>\n",
       "      <td>...</td>\n",
       "      <td>19:27:00</td>\n",
       "      <td>-</td>\n",
       "      <td>-</td>\n",
       "      <td>-</td>\n",
       "      <td>NORTH PCT 2ND W - NORA</td>\n",
       "      <td>N</td>\n",
       "      <td>N</td>\n",
       "      <td>-</td>\n",
       "      <td>-</td>\n",
       "      <td>-</td>\n",
       "    </tr>\n",
       "    <tr>\n",
       "      <td>4</td>\n",
       "      <td>-</td>\n",
       "      <td>-1</td>\n",
       "      <td>20150000002815</td>\n",
       "      <td>51727</td>\n",
       "      <td>Field Contact</td>\n",
       "      <td>None</td>\n",
       "      <td>7456</td>\n",
       "      <td>1979</td>\n",
       "      <td>M</td>\n",
       "      <td>White</td>\n",
       "      <td>...</td>\n",
       "      <td>19:32:00</td>\n",
       "      <td>-</td>\n",
       "      <td>-</td>\n",
       "      <td>-</td>\n",
       "      <td>NORTH PCT 2ND W - NORA</td>\n",
       "      <td>N</td>\n",
       "      <td>N</td>\n",
       "      <td>-</td>\n",
       "      <td>-</td>\n",
       "      <td>-</td>\n",
       "    </tr>\n",
       "    <tr>\n",
       "      <td>5</td>\n",
       "      <td>-</td>\n",
       "      <td>-1</td>\n",
       "      <td>20150000002833</td>\n",
       "      <td>52168</td>\n",
       "      <td>Field Contact</td>\n",
       "      <td>None</td>\n",
       "      <td>5966</td>\n",
       "      <td>1969</td>\n",
       "      <td>M</td>\n",
       "      <td>White</td>\n",
       "      <td>...</td>\n",
       "      <td>01:25:00</td>\n",
       "      <td>-</td>\n",
       "      <td>-</td>\n",
       "      <td>-</td>\n",
       "      <td>WEST PCT 3RD W - K/Q RELIEF</td>\n",
       "      <td>N</td>\n",
       "      <td>N</td>\n",
       "      <td>-</td>\n",
       "      <td>-</td>\n",
       "      <td>-</td>\n",
       "    </tr>\n",
       "    <tr>\n",
       "      <td>6</td>\n",
       "      <td>-</td>\n",
       "      <td>-1</td>\n",
       "      <td>20150000002856</td>\n",
       "      <td>52559</td>\n",
       "      <td>Field Contact</td>\n",
       "      <td>None</td>\n",
       "      <td>7500</td>\n",
       "      <td>1984</td>\n",
       "      <td>M</td>\n",
       "      <td>Black or African American</td>\n",
       "      <td>...</td>\n",
       "      <td>04:44:00</td>\n",
       "      <td>-</td>\n",
       "      <td>-</td>\n",
       "      <td>-</td>\n",
       "      <td>SOUTH PCT 1ST W - ROBERT</td>\n",
       "      <td>N</td>\n",
       "      <td>N</td>\n",
       "      <td>-</td>\n",
       "      <td>-</td>\n",
       "      <td>-</td>\n",
       "    </tr>\n",
       "    <tr>\n",
       "      <td>7</td>\n",
       "      <td>-</td>\n",
       "      <td>-1</td>\n",
       "      <td>20150000002870</td>\n",
       "      <td>52057</td>\n",
       "      <td>Field Contact</td>\n",
       "      <td>None</td>\n",
       "      <td>7592</td>\n",
       "      <td>1983</td>\n",
       "      <td>M</td>\n",
       "      <td>White</td>\n",
       "      <td>...</td>\n",
       "      <td>14:32:00</td>\n",
       "      <td>-</td>\n",
       "      <td>-</td>\n",
       "      <td>-</td>\n",
       "      <td>SOUTH PCT 1ST W - ROBERT</td>\n",
       "      <td>N</td>\n",
       "      <td>N</td>\n",
       "      <td>-</td>\n",
       "      <td>-</td>\n",
       "      <td>-</td>\n",
       "    </tr>\n",
       "  </tbody>\n",
       "</table>\n",
       "<p>8 rows × 23 columns</p>\n",
       "</div>"
      ],
      "text/plain": [
       "  Subject Age Group  Subject ID     GO / SC Num  Terry Stop ID  \\\n",
       "0                 -          -1  20140000120677          92317   \n",
       "1                 -          -1  20150000001670          32260   \n",
       "2                 -          -1  20150000002451          46430   \n",
       "3                 -          -1  20150000002815          51725   \n",
       "4                 -          -1  20150000002815          51727   \n",
       "5                 -          -1  20150000002833          52168   \n",
       "6                 -          -1  20150000002856          52559   \n",
       "7                 -          -1  20150000002870          52057   \n",
       "\n",
       "  Stop Resolution Weapon Type Officer ID  Officer YOB Officer Gender  \\\n",
       "0          Arrest        None     7500           1984              M   \n",
       "1   Field Contact        None     7539           1963              M   \n",
       "2   Field Contact        None     7591           1985              M   \n",
       "3   Field Contact        None     7456           1979              M   \n",
       "4   Field Contact        None     7456           1979              M   \n",
       "5   Field Contact        None     5966           1969              M   \n",
       "6   Field Contact        None     7500           1984              M   \n",
       "7   Field Contact        None     7592           1983              M   \n",
       "\n",
       "                Officer Race  ... Reported Time Initial Call Type  \\\n",
       "0  Black or African American  ...      11:32:00                 -   \n",
       "1                      White  ...      04:55:00                 -   \n",
       "2         Hispanic or Latino  ...      01:06:00                 -   \n",
       "3                      White  ...      19:27:00                 -   \n",
       "4                      White  ...      19:32:00                 -   \n",
       "5                      White  ...      01:25:00                 -   \n",
       "6  Black or African American  ...      04:44:00                 -   \n",
       "7                      White  ...      14:32:00                 -   \n",
       "\n",
       "  Final Call Type Call Type                Officer Squad Arrest Flag  \\\n",
       "0               -         -     SOUTH PCT 1ST W - ROBERT           N   \n",
       "1               -         -                          NaN           N   \n",
       "2               -         -        WEST PCT 3RD W - MARY           N   \n",
       "3               -         -       NORTH PCT 2ND W - NORA           N   \n",
       "4               -         -       NORTH PCT 2ND W - NORA           N   \n",
       "5               -         -  WEST PCT 3RD W - K/Q RELIEF           N   \n",
       "6               -         -     SOUTH PCT 1ST W - ROBERT           N   \n",
       "7               -         -     SOUTH PCT 1ST W - ROBERT           N   \n",
       "\n",
       "  Frisk Flag Precinct  Sector    Beat  \n",
       "0          N    South  O       O2      \n",
       "1          N        -       -       -  \n",
       "2          N        -       -       -  \n",
       "3          N        -       -       -  \n",
       "4          N        -       -       -  \n",
       "5          N        -       -       -  \n",
       "6          N        -       -       -  \n",
       "7          N        -       -       -  \n",
       "\n",
       "[8 rows x 23 columns]"
      ]
     },
     "execution_count": 71,
     "metadata": {},
     "output_type": "execute_result"
    }
   ],
   "source": [
    "# The data\n",
    "df = pd.read_csv('Terry_Stops.csv')\n",
    "df.head(8)"
   ]
  },
  {
   "cell_type": "code",
   "execution_count": 72,
   "metadata": {},
   "outputs": [
    {
     "name": "stdout",
     "output_type": "stream",
     "text": [
      "<class 'pandas.core.frame.DataFrame'>\n",
      "RangeIndex: 40313 entries, 0 to 40312\n",
      "Data columns (total 23 columns):\n",
      "Subject Age Group           40313 non-null object\n",
      "Subject ID                  40313 non-null int64\n",
      "GO / SC Num                 40313 non-null int64\n",
      "Terry Stop ID               40313 non-null int64\n",
      "Stop Resolution             40313 non-null object\n",
      "Weapon Type                 40313 non-null object\n",
      "Officer ID                  40313 non-null object\n",
      "Officer YOB                 40313 non-null int64\n",
      "Officer Gender              40313 non-null object\n",
      "Officer Race                40313 non-null object\n",
      "Subject Perceived Race      40313 non-null object\n",
      "Subject Perceived Gender    40313 non-null object\n",
      "Reported Date               40313 non-null object\n",
      "Reported Time               40313 non-null object\n",
      "Initial Call Type           40313 non-null object\n",
      "Final Call Type             40313 non-null object\n",
      "Call Type                   40313 non-null object\n",
      "Officer Squad               39780 non-null object\n",
      "Arrest Flag                 40313 non-null object\n",
      "Frisk Flag                  40313 non-null object\n",
      "Precinct                    40313 non-null object\n",
      "Sector                      40313 non-null object\n",
      "Beat                        40313 non-null object\n",
      "dtypes: int64(4), object(19)\n",
      "memory usage: 7.1+ MB\n"
     ]
    }
   ],
   "source": [
    "df.info()"
   ]
  },
  {
   "cell_type": "code",
   "execution_count": 73,
   "metadata": {},
   "outputs": [
    {
     "data": {
      "text/plain": [
       "Subject Age Group             0\n",
       "Subject ID                    0\n",
       "GO / SC Num                   0\n",
       "Terry Stop ID                 0\n",
       "Stop Resolution               0\n",
       "Weapon Type                   0\n",
       "Officer ID                    0\n",
       "Officer YOB                   0\n",
       "Officer Gender                0\n",
       "Officer Race                  0\n",
       "Subject Perceived Race        0\n",
       "Subject Perceived Gender      0\n",
       "Reported Date                 0\n",
       "Reported Time                 0\n",
       "Initial Call Type             0\n",
       "Final Call Type               0\n",
       "Call Type                     0\n",
       "Officer Squad               533\n",
       "Arrest Flag                   0\n",
       "Frisk Flag                    0\n",
       "Precinct                      0\n",
       "Sector                        0\n",
       "Beat                          0\n",
       "dtype: int64"
      ]
     },
     "execution_count": 73,
     "metadata": {},
     "output_type": "execute_result"
    }
   ],
   "source": [
    "df.isna().sum()"
   ]
  },
  {
   "cell_type": "markdown",
   "metadata": {},
   "source": [
    "<b>At first glance it appears that the Officer's squad is the only category with outright unknown values. For now I will ignore these missing values. However, I will continue to investigate to find missing or odd values.</b> <br><br>\n",
    "# Distribute unknown ages to each group"
   ]
  },
  {
   "cell_type": "code",
   "execution_count": 74,
   "metadata": {},
   "outputs": [
    {
     "data": {
      "text/plain": [
       "26 - 35         13372\n",
       "18 - 25          8400\n",
       "36 - 45          8357\n",
       "46 - 55          5155\n",
       "56 and Above     1919\n",
       "1 - 17           1853\n",
       "-                1257\n",
       "Name: Subject Age Group, dtype: int64"
      ]
     },
     "execution_count": 74,
     "metadata": {},
     "output_type": "execute_result"
    }
   ],
   "source": [
    "df['Subject Age Group'].value_counts()"
   ]
  },
  {
   "cell_type": "markdown",
   "metadata": {},
   "source": [
    "## Create new data frame to replace missing age values \n",
    "I will randomly replace the missing age categories."
   ]
  },
  {
   "cell_type": "code",
   "execution_count": 75,
   "metadata": {
    "scrolled": true
   },
   "outputs": [
    {
     "data": {
      "text/plain": [
       "26 - 35         13713\n",
       "18 - 25          8590\n",
       "36 - 45          8531\n",
       "46 - 55          5335\n",
       "56 and Above     2098\n",
       "1 - 17           2046\n",
       "Name: Subject Age Group, dtype: int64"
      ]
     },
     "execution_count": 75,
     "metadata": {},
     "output_type": "execute_result"
    }
   ],
   "source": [
    "# List of groups to fill (used 26 - 35 twice since it has double most values)\n",
    "ages = ['1 - 17', '18 - 25', '26 - 35', '26 - 35', '36 - 45', '46 - 55', '56 and Above']\n",
    "\n",
    "# Change all missing values to a data frame without missing values\n",
    "df['Subject Age Group'] = df['Subject Age Group'].apply(lambda x: np.random.choice(ages) if x == '-' else x)\n",
    "\n",
    "df['Subject Age Group'].value_counts()"
   ]
  },
  {
   "cell_type": "markdown",
   "metadata": {},
   "source": [
    "# Check other columns for missing values"
   ]
  },
  {
   "cell_type": "code",
   "execution_count": 76,
   "metadata": {},
   "outputs": [
    {
     "name": "stdout",
     "output_type": "stream",
     "text": [
      "161\n"
     ]
    },
    {
     "data": {
      "text/plain": [
       "array(['-', 'SUSPICIOUS STOP - OFFICER INITIATED ONVIEW',\n",
       "       'SHOTS - IP/JO - INCLUDES HEARD/NO ASSAULT',\n",
       "       'DIST - IP/JO - DV DIST - NO ASLT',\n",
       "       'NARCOTICS - VIOLATIONS (LOITER, USE, SELL, NARS)',\n",
       "       'MVC - HIT AND RUN (NON INJURY), INCLUDES IP/JO',\n",
       "       'THEFT (DOES NOT INCLUDE SHOPLIFT OR SVCS)',\n",
       "       'SUSPICIOUS PERSON, VEHICLE OR INCIDENT', 'SHOPLIFT - THEFT',\n",
       "       'ASLT - IP/JO - WITH OR W/O WPNS (NO SHOOTINGS)',\n",
       "       'MVC - WITH INJURIES (INCLUDES HIT AND RUN)',\n",
       "       'FIGHT - VERBAL/ORAL (NO WEAPONS)',\n",
       "       'WEAPN-IP/JO-GUN,DEADLY WPN (NO THRT/ASLT/DIST)',\n",
       "       'DISTURBANCE, MISCELLANEOUS/OTHER', 'PROWLER - IP/JO',\n",
       "       'PERSON IN BEHAVIORAL/EMOTIONAL CRISIS',\n",
       "       'FIGHT - IP - PHYSICAL (NO WEAPONS)', 'AUTO RECOVERY', 'TRESPASS',\n",
       "       'TRAFFIC STOP - OFFICER INITIATED ONVIEW',\n",
       "       'BURG - IP/JO - RES (INCL UNOCC STRUCTURES)',\n",
       "       'ROBBERY - IP/JO (INCLUDES STRONG ARM)',\n",
       "       'SHOTS -DELAY/INCLUDES HEARD/NO ASSAULT',\n",
       "       'CARJACKING - IP/JO - ROBBERY', 'WARRANT - MISD WARRANT PICKUP',\n",
       "       'NUISANCE - MISCHIEF',\n",
       "       'BURG - RES (INCL UNOCC STRUCTURES ON PROP)',\n",
       "       'ALARM - COMM, SILENT/AUD BURG (INCL BANKS)',\n",
       "       'UNKNOWN - ANI/ALI - WRLS PHNS (INCL OPEN LINE)',\n",
       "       'DOWN - CHECK FOR PERSON DOWN',\n",
       "       'THREATS (INCLS IN-PERSON/BY PHONE/IN WRITING)',\n",
       "       'BURG - COMM BURGLARY (INCLUDES SCHOOLS)',\n",
       "       'AUTO THEFT - VEH THEFT OR THEFT & RECOVERY',\n",
       "       'HAZ - POTENTIAL THRT TO PHYS SAFETY (NO HAZMAT)',\n",
       "       'UNKNOWN - ANI/ALI - LANDLINE (INCLUDES OPEN LINE)',\n",
       "       'ASLT - WITH OR W/O WEAPONS (NO SHOOTINGS)',\n",
       "       'WARRANT - FELONY PICKUP', 'DIST - DV - NO ASLT', 'SICK PERSON',\n",
       "       'TRAFFIC - ROAD RAGE', 'PROPERTY - DAMAGE', 'ASLT - IP/JO - DV',\n",
       "       'ARSON - IP/JO', 'ORDER - IP - VIOLATION OF DV COURT ORDER',\n",
       "       'SEX IN PUBLIC PLACE/VIEW (INCL MASTURBATION)',\n",
       "       'ORDER - VIOLATING DV COURT ORDER',\n",
       "       'ROBBERY (INCLUDES STRONG ARM)', 'TRAFFIC - BLOCKING ROADWAY',\n",
       "       'ASLT - IP/JO - PERSON SHOT OR SHOT AT',\n",
       "       'ORDER - VIOLATION OF COURT ORDER (NON DV)',\n",
       "       'BURG - IP/JO - COMM BURG (INCLUDES SCHOOLS)',\n",
       "       'PANHANDLING, AGGRESSIVE',\n",
       "       'UNDERCOVER OPS, CAUTION (INCLUDES STAKEOUTS)', 'FOLLOW UP',\n",
       "       'DUI - DRIVING UNDER INFLUENCE', 'FIGHT - IP/JO - WITH WEAPONS',\n",
       "       'FIGHT - WITH WEAPONS', 'FIGHT - JO - PHYSICAL (NO WEAPONS)',\n",
       "       'LEWD -  (EXPOSING, FLASHING, URINATING IN PUB)',\n",
       "       'PROPERTY - DAMAGE (GUN RELATED)', 'TRAFFIC - MOVING VIOLATION',\n",
       "       'MVC - UNK INJURIES', 'SFD - ASSIST ON FIRE OR MEDIC RESPONSE',\n",
       "       'PREMISE CHECK, OFFICER INITIATED ONVIEW ONLY',\n",
       "       'HARAS - NO BIAS, THREATS OR MALICIOUSNESS',\n",
       "       'ASSIST OTHER AGENCY - ROUTINE SERVICE', 'ILLEGAL DUMPING',\n",
       "       'FIREWORKS - NUISANCE (NO HAZARD)', 'LIQUOR VIOLATIONS - ADULT',\n",
       "       'UNKNOWN - COMPLAINT OF UNKNOWN NATURE',\n",
       "       'FRAUD - FORGERY,BUNCO, SCAMS, ID THEFT, ETC',\n",
       "       'WEAPN - GUN,DEADLY WPN (NO THRTS/ASLT/DIST)',\n",
       "       'MVC - NON INJURY, BLOCKING', 'NARCOTICS WARRANT SERVICE',\n",
       "       'HELP THE OFFICER', 'VICE - PROSTITUTION',\n",
       "       'SUICIDE - IP/JO SUICIDAL PERSON AND ATTEMPTS',\n",
       "       'LIQUOR VIOLATIONS - MINOR', 'PURSE SNATCH - IP/JO - ROBBERY',\n",
       "       'RAPE - IP/JO', 'OVERDOSE - DRUG RELATED CASUALTY', 'PROWLER',\n",
       "       'JUVENILE - RUNAWAY', 'AUTO THEFT-IP/JO - VEHICLE, PLATES, TABS',\n",
       "       'NOISE - DISTURBANCE (PARTY, ETC)', 'PURSE SNATCH - ROBBERY',\n",
       "       'THEFT OF SERVICES', 'JUVENILE - RUNAWAY PICKUP',\n",
       "       'MISSING - CHILD', 'NARCOTICS WARRANT SERVICE - EXECUTED, SECURED',\n",
       "       'ASLT - DV', 'WARRANT - SEARCH. CAUTION (EXCL NARCOTICS)',\n",
       "       'OPEN - BUILDING, DOOR, ETC.', 'TRAF - ELUDING POLICE',\n",
       "       'FOOT - ELUDING POLICE', 'CHILD - IP/JO - LURING',\n",
       "       'THREATS - DV - NO ASSAULT', 'WARRANT - SEARCH. EXECUTED, SECURED',\n",
       "       'CARJACKING - ROBBERY', 'RAPE', 'ASLT - PERSON SHOT OR SHOT AT',\n",
       "       'ASSIST PUBLIC - NO WELFARE CHK OR DV ORDER SERVICE',\n",
       "       'CHILD - ABAND, ABUSED, MOLESTED, NEGLECTED',\n",
       "       'ORDER  - SERVICE OF DV COURT ORDER',\n",
       "       'NOISE - DIST, GENERAL (CONST, RESID, BALL PLAY)',\n",
       "       'ASLT - MOLESTED ADULT (GROPED, FONDLED, ETC.)',\n",
       "       'SERVICE - WELFARE CHECK', 'OFF DUTY EMPLOYMENT', 'DEMONSTRATIONS',\n",
       "       'PARKS VIOLATIONS/CITES (INCLUDES EXCLUSIONS)',\n",
       "       'TRAFFIC - ASSIST MOTORIST',\n",
       "       '-ASSIGNED DUTY - FOOT BEAT (FROM ASSIGNED CAR)',\n",
       "       '-ASSIGNED DUTY - STAKEOUT',\n",
       "       'ALARM - RESIDENTIAL - BURGLARY, SILENT/AUDIBLE',\n",
       "       'CHILD - IP/JO - ABAND, ABUSE, MOLEST, NEGLECT',\n",
       "       'PEACE-STANDBY TO ASSURE (NO COURT ORDR SVC)',\n",
       "       'MVC - REPORT, NON INJ/NON BLKG OR AFTER FACT INJ',\n",
       "       'BURN - RECKLESS BURNING', 'EXPLOSION - IP/JO', 'TRU - THEFT',\n",
       "       'ASSIST OTHER AGENCY - EMERGENCY SERVICE', 'BOMB THREATS - IP/JO',\n",
       "       'PARKING VIOLATION (EXCEPT ABANDONED CAR)', 'ARSON - REPORT',\n",
       "       'BIAS -RACIAL, POLITICAL, SEXUAL MOTIVATION',\n",
       "       'PEDESTRIAN VIOLATIONS', 'AWOL - ADULT OR JUVENILE',\n",
       "       'ASSIST SPD - ROUTINE SERVICE', 'DIRECTED PATROL ACTIVITY',\n",
       "       'ALARM - AUDIBLE AUTOMOBILE (UNOCC/ANTI-THEFT)',\n",
       "       'DOWN - CHECK FOR DOWN PERSON', 'LITTERING',\n",
       "       'ALARM - BANK (HOLD-UP)', 'PROPERTY - FOUND', 'CHILD -  LURING',\n",
       "       'NARCOTICS - FOUND', 'FOUND - PERSON',\n",
       "       'AUTO - THEFT/LOSS, PLATES AND/OR TAB', 'SUSPICIOUS PACKAGE',\n",
       "       'ANIMAL - INJURED, DEAD HAZARD, OTHER',\n",
       "       'SUICIDE, SUICIDAL PERSON AND ATTEMPTS', 'REQUEST TO WATCH',\n",
       "       'KNOWN KIDNAPPNG', 'ESCAPE - PRISONER', 'MISSING - ADULT',\n",
       "       'SLEEPER ABOARD BUS/COMMUTER TRAIN',\n",
       "       'PHONE - OBSCENE OR NUISANCE PHONE CALLS',\n",
       "       'ALARM - ATM MACHINE, FREE STANDING',\n",
       "       'ALARM - RESIDENTIAL - SILENT/AUD PANIC/DURESS',\n",
       "       'DOA - CASUALTY, DEAD BODY', 'VICE - PORNOGRAPHY', 'GAMBLING',\n",
       "       'INJURED - IP/JO - PERSON/INDUSTRIAL ACCIDENT',\n",
       "       'ANIMAL - IP/JO - BITE',\n",
       "       'UNKNOWN - ANI/ALI - PAY PHNS (INCL OPEN LINE)',\n",
       "       'MISSING - (ALZHEIMER, ENDANGERED, ELDERLY)',\n",
       "       'INJURED -  PERSON/INDUSTRIAL ACCIDENT',\n",
       "       'ALARM - COMM, HOLD-UP/PANIC (EXCEPT BANKS)',\n",
       "       'HAZ - IMMINENT THRT TO PHYS SAFETY (NO HAZ MAT)',\n",
       "       'ASSIST SPD - URGENT SERVICE', 'ANIMAL, REPORT - BITE'],\n",
       "      dtype=object)"
      ]
     },
     "execution_count": 76,
     "metadata": {},
     "output_type": "execute_result"
    }
   ],
   "source": [
    "# Find all inital call types\n",
    "print(df['Initial Call Type'].nunique())\n",
    "values = df['Initial Call Type'].unique()\n",
    "values"
   ]
  },
  {
   "cell_type": "markdown",
   "metadata": {},
   "source": [
    "## There are 161 different initial call types\n",
    "I will leave these alone for now.\n",
    "## Let's look at Call Type"
   ]
  },
  {
   "cell_type": "code",
   "execution_count": 77,
   "metadata": {
    "scrolled": true
   },
   "outputs": [
    {
     "data": {
      "text/plain": [
       "911                              17444\n",
       "-                                12725\n",
       "ONVIEW                            7182\n",
       "TELEPHONE OTHER, NOT 911          2747\n",
       "ALARM CALL (NOT POLICE ALARM)      210\n",
       "TEXT MESSAGE                         2\n",
       "PROACTIVE (OFFICER INITIATED)        2\n",
       "SCHEDULED EVENT (RECURRING)          1\n",
       "Name: Call Type, dtype: int64"
      ]
     },
     "execution_count": 77,
     "metadata": {},
     "output_type": "execute_result"
    }
   ],
   "source": [
    "df['Call Type'].value_counts()"
   ]
  },
  {
   "cell_type": "markdown",
   "metadata": {},
   "source": [
    "<b>I will make 4 categories:\n",
    "* 911\n",
    "* On view\n",
    "* None\n",
    "* Other"
   ]
  },
  {
   "cell_type": "code",
   "execution_count": 78,
   "metadata": {},
   "outputs": [
    {
     "data": {
      "text/plain": [
       "911       17444\n",
       "None      12725\n",
       "ONVIEW     7182\n",
       "Other      2962\n",
       "Name: Call Type, dtype: int64"
      ]
     },
     "execution_count": 78,
     "metadata": {},
     "output_type": "execute_result"
    }
   ],
   "source": [
    "# Replace values to make 4 categories\n",
    "df['Call Type'] = df['Call Type'].replace('-', 'None').replace('TELEPHONE OTHER, NOT 911', 'Other')\n",
    "df['Call Type'] = df['Call Type'].replace('ALARM CALL (NOT POLICE ALARM)', 'Other')\n",
    "df['Call Type'] = df['Call Type'].replace('TEXT MESSAGE', 'Other').replace('PROACTIVE (OFFICER INITIATED)', 'Other')\n",
    "df['Call Type'] = df['Call Type'].replace('SCHEDULED EVENT (RECURRING)', 'Other').replace('OnView', 'On_View')\n",
    "df['Call Type'].value_counts()"
   ]
  },
  {
   "cell_type": "markdown",
   "metadata": {},
   "source": [
    "## Look at Frisk Flag\n",
    "There are some unknown frisk values. I will remove these since they do not amount to a significant number."
   ]
  },
  {
   "cell_type": "code",
   "execution_count": 79,
   "metadata": {
    "scrolled": false
   },
   "outputs": [
    {
     "data": {
      "text/plain": [
       "N    30983\n",
       "Y     8853\n",
       "-      477\n",
       "Name: Frisk Flag, dtype: int64"
      ]
     },
     "execution_count": 79,
     "metadata": {},
     "output_type": "execute_result"
    }
   ],
   "source": [
    "df['Frisk Flag'].value_counts()"
   ]
  },
  {
   "cell_type": "code",
   "execution_count": 80,
   "metadata": {},
   "outputs": [
    {
     "data": {
      "text/plain": [
       "N    30983\n",
       "Y     8853\n",
       "Name: Frisk Flag, dtype: int64"
      ]
     },
     "execution_count": 80,
     "metadata": {},
     "output_type": "execute_result"
    }
   ],
   "source": [
    "df['Frisk Flag'].drop(df[df['Frisk Flag'] == '-'].index, inplace=True)\n",
    "df['Frisk Flag'].value_counts()"
   ]
  },
  {
   "cell_type": "markdown",
   "metadata": {},
   "source": [
    "## Arrest Flag will be the target"
   ]
  },
  {
   "cell_type": "code",
   "execution_count": 81,
   "metadata": {},
   "outputs": [
    {
     "data": {
      "text/plain": [
       "N    38707\n",
       "Y     1606\n",
       "Name: Arrest Flag, dtype: int64"
      ]
     },
     "execution_count": 81,
     "metadata": {},
     "output_type": "execute_result"
    }
   ],
   "source": [
    "df['Arrest Flag'].value_counts()"
   ]
  },
  {
   "cell_type": "markdown",
   "metadata": {},
   "source": [
    "##  Stop Resolution has 5 categories"
   ]
  },
  {
   "cell_type": "code",
   "execution_count": 82,
   "metadata": {
    "scrolled": true
   },
   "outputs": [
    {
     "data": {
      "text/plain": [
       "Field Contact               15758\n",
       "Offense Report              13860\n",
       "Arrest                       9814\n",
       "Referred for Prosecution      728\n",
       "Citation / Infraction         153\n",
       "Name: Stop Resolution, dtype: int64"
      ]
     },
     "execution_count": 82,
     "metadata": {},
     "output_type": "execute_result"
    }
   ],
   "source": [
    "df['Stop Resolution'].value_counts()"
   ]
  },
  {
   "cell_type": "markdown",
   "metadata": {},
   "source": [
    "## Let's look at Race"
   ]
  },
  {
   "cell_type": "code",
   "execution_count": 83,
   "metadata": {
    "scrolled": false
   },
   "outputs": [
    {
     "data": {
      "text/plain": [
       "White                                        19784\n",
       "Black or African American                    12031\n",
       "Unknown                                       2026\n",
       "Hispanic                                      1684\n",
       "-                                             1345\n",
       "Asian                                         1246\n",
       "American Indian or Alaska Native              1212\n",
       "Multi-Racial                                   809\n",
       "Other                                          152\n",
       "Native Hawaiian or Other Pacific Islander       24\n",
       "Name: Subject Perceived Race, dtype: int64"
      ]
     },
     "execution_count": 83,
     "metadata": {},
     "output_type": "execute_result"
    }
   ],
   "source": [
    "df['Subject Perceived Race'].value_counts()"
   ]
  },
  {
   "cell_type": "code",
   "execution_count": 84,
   "metadata": {},
   "outputs": [
    {
     "data": {
      "text/plain": [
       "White                                        19784\n",
       "Black or African American                    12031\n",
       "Unknown                                       3371\n",
       "Hispanic                                      1684\n",
       "Asian                                         1246\n",
       "American Indian or Alaska Native              1212\n",
       "Multi-Racial                                   809\n",
       "Other                                          152\n",
       "Native Hawaiian or Other Pacific Islander       24\n",
       "Name: Subject Perceived Race, dtype: int64"
      ]
     },
     "execution_count": 84,
     "metadata": {},
     "output_type": "execute_result"
    }
   ],
   "source": [
    "# Replace dashes (-) with Unknown\n",
    "df['Subject Perceived Race'] = df['Subject Perceived Race'].replace('-', 'Unknown')\n",
    "df['Subject Perceived Race'].value_counts()"
   ]
  },
  {
   "cell_type": "markdown",
   "metadata": {},
   "source": [
    "<b>Added dashes to the Unknown categroy.</b>\n",
    "## Officer's Year of Birth"
   ]
  },
  {
   "cell_type": "code",
   "execution_count": 85,
   "metadata": {
    "scrolled": true
   },
   "outputs": [
    {
     "data": {
      "text/plain": [
       "count    40313.000000\n",
       "mean      1982.277131\n",
       "std          8.834036\n",
       "min       1900.000000\n",
       "25%       1977.000000\n",
       "50%       1984.000000\n",
       "75%       1989.000000\n",
       "max       1997.000000\n",
       "Name: Officer YOB, dtype: float64"
      ]
     },
     "execution_count": 85,
     "metadata": {},
     "output_type": "execute_result"
    }
   ],
   "source": [
    "df['Officer YOB'].describe()"
   ]
  },
  {
   "cell_type": "markdown",
   "metadata": {},
   "source": [
    "<b>Our officers were born from 1900 to 1997 with a median of 1984</b>\n",
    "## Weapon Types"
   ]
  },
  {
   "cell_type": "code",
   "execution_count": 86,
   "metadata": {},
   "outputs": [
    {
     "data": {
      "text/plain": [
       "None                                 32565\n",
       "-                                     5481\n",
       "Lethal Cutting Instrument             1482\n",
       "Handgun                                262\n",
       "Knife/Cutting/Stabbing Instrument      262\n",
       "Firearm Other                          100\n",
       "Club, Blackjack, Brass Knuckles         49\n",
       "Blunt Object/Striking Implement         29\n",
       "Firearm                                 17\n",
       "Firearm (unk type)                      15\n",
       "Other Firearm                           11\n",
       "Mace/Pepper Spray                       10\n",
       "Club                                     9\n",
       "Rifle                                    5\n",
       "None/Not Applicable                      4\n",
       "Taser/Stun Gun                           4\n",
       "Shotgun                                  3\n",
       "Automatic Handgun                        2\n",
       "Fire/Incendiary Device                   1\n",
       "Blackjack                                1\n",
       "Brass Knuckles                           1\n",
       "Name: Weapon Type, dtype: int64"
      ]
     },
     "execution_count": 86,
     "metadata": {},
     "output_type": "execute_result"
    }
   ],
   "source": [
    "df['Weapon Type'].value_counts()"
   ]
  },
  {
   "cell_type": "markdown",
   "metadata": {},
   "source": [
    "### Clean up Weapon Type\n",
    "Weapons category seems a bit repetitive. If needed, will narrow down to the following categories:\n",
    "* Firearms\n",
    "* Cutting Instrument\n",
    "* Striking Instrument\n",
    "* None\n",
    "* Other"
   ]
  },
  {
   "cell_type": "code",
   "execution_count": 87,
   "metadata": {
    "scrolled": false
   },
   "outputs": [
    {
     "data": {
      "text/plain": [
       "None                   38050\n",
       "Cutting Instrument      1744\n",
       "Firearm                  415\n",
       "Striking Instrument       89\n",
       "Other                     15\n",
       "Name: Weapon Type, dtype: int64"
      ]
     },
     "execution_count": 87,
     "metadata": {},
     "output_type": "execute_result"
    }
   ],
   "source": [
    "# Replace dash with None\n",
    "df['Weapon Type'] = df['Weapon Type'].replace('-', 'None').replace('None/Not Applicable', 'None')\n",
    "\n",
    "# Replace all firearms with Firearm\n",
    "df['Weapon Type'] = df['Weapon Type'].replace('Handgun', 'Firearm').replace('Rifle', 'Firearm')\n",
    "df['Weapon Type'] = df['Weapon Type'].replace('Firearm Other', 'Firearm').replace('Firearm (unk type)', 'Firearm')\n",
    "df['Weapon Type'] = df['Weapon Type'].replace('Other Firearm', 'Firearm').replace('Shotgun', 'Firearm')\n",
    "df['Weapon Type'] = df['Weapon Type'].replace('Automatic Handgun', 'Firearm').replace('Rifle', 'Firearm')\n",
    "\n",
    "# Replace all cutting/stabbing instruments with Cutting Instrument\n",
    "df['Weapon Type'] = df['Weapon Type'].replace('Lethal Cutting Instrument', 'Cutting Instrument').replace('Knife/Cutting/Stabbing Instrument', 'Cutting Instrument')\n",
    "\n",
    "# Replace all types of striking instruments with Striking Instrument\n",
    "df['Weapon Type'] = df['Weapon Type'].replace('Club, Blackjack, Brass Knuckles', 'Striking Instrument').replace('Blunt Object/Striking Implement', 'Striking Instrument')\n",
    "df['Weapon Type'] = df['Weapon Type'].replace('Blackjack', 'Striking Instrument').replace('Brass Knuckles', 'Striking Instrument')\n",
    "df['Weapon Type'] = df['Weapon Type'].replace('Club', 'Striking Instrument')\n",
    "\n",
    "# Replace odd types of weapons with Other\n",
    "df['Weapon Type'] = df['Weapon Type'].replace('Mace/Pepper Spray', 'Other').replace('Taser/Stun Gun', 'Other')\n",
    "df['Weapon Type'] = df['Weapon Type'].replace('Fire/Incendiary Device', 'Other')\n",
    "\n",
    "df['Weapon Type'].value_counts()"
   ]
  },
  {
   "cell_type": "markdown",
   "metadata": {},
   "source": [
    "## Check to see if IDs are needed"
   ]
  },
  {
   "cell_type": "code",
   "execution_count": 88,
   "metadata": {
    "scrolled": true
   },
   "outputs": [
    {
     "data": {
      "text/plain": [
       "count    4.031300e+04\n",
       "mean     1.213040e+09\n",
       "std      3.046154e+09\n",
       "min     -1.000000e+00\n",
       "25%     -1.000000e+00\n",
       "50%     -1.000000e+00\n",
       "75%     -1.000000e+00\n",
       "max      1.275286e+10\n",
       "Name: Subject ID, dtype: float64"
      ]
     },
     "execution_count": 88,
     "metadata": {},
     "output_type": "execute_result"
    }
   ],
   "source": [
    "df['Subject ID'].describe()"
   ]
  },
  {
   "cell_type": "code",
   "execution_count": 89,
   "metadata": {},
   "outputs": [
    {
     "data": {
      "text/plain": [
       "count    4.031300e+04\n",
       "mean     1.503510e+09\n",
       "std      3.722270e+09\n",
       "min      2.802000e+04\n",
       "25%      1.572900e+05\n",
       "50%      3.184670e+05\n",
       "75%      5.052170e+05\n",
       "max      1.275287e+10\n",
       "Name: Terry Stop ID, dtype: float64"
      ]
     },
     "execution_count": 89,
     "metadata": {},
     "output_type": "execute_result"
    }
   ],
   "source": [
    "df['Terry Stop ID'].describe()"
   ]
  },
  {
   "cell_type": "markdown",
   "metadata": {},
   "source": [
    "At this time I don't believe neither subject ID nor terry stop ID will be needed.\n",
    "# Convert Reported Time\n",
    "Convert the time to a time object for easier analysis."
   ]
  },
  {
   "cell_type": "code",
   "execution_count": 90,
   "metadata": {
    "scrolled": true
   },
   "outputs": [
    {
     "data": {
      "text/plain": [
       "count        40313\n",
       "unique        6920\n",
       "top       03:09:00\n",
       "freq            50\n",
       "Name: Reported Time, dtype: object"
      ]
     },
     "execution_count": 90,
     "metadata": {},
     "output_type": "execute_result"
    }
   ],
   "source": [
    "df['Reported Time'].describe()"
   ]
  },
  {
   "cell_type": "code",
   "execution_count": 91,
   "metadata": {},
   "outputs": [
    {
     "data": {
      "text/plain": [
       "0    11:32:00\n",
       "1    04:55:00\n",
       "2    01:06:00\n",
       "3    19:27:00\n",
       "4    19:32:00\n",
       "Name: Reported Time, dtype: object"
      ]
     },
     "execution_count": 91,
     "metadata": {},
     "output_type": "execute_result"
    }
   ],
   "source": [
    "# Change time from object to time\n",
    "df['Reported Time'] = pd.to_datetime(df['Reported Time'],format='%H:%M:%S').dt.time\n",
    "df['Reported Time'].head()"
   ]
  },
  {
   "cell_type": "code",
   "execution_count": 92,
   "metadata": {},
   "outputs": [
    {
     "ename": "AttributeError",
     "evalue": "'datetime.time' object has no attribute 'seconds'",
     "output_type": "error",
     "traceback": [
      "\u001b[0;31m---------------------------------------------------------------------------\u001b[0m",
      "\u001b[0;31mAttributeError\u001b[0m                            Traceback (most recent call last)",
      "\u001b[0;32m<ipython-input-92-47f2c6ec60b7>\u001b[0m in \u001b[0;36m<module>\u001b[0;34m\u001b[0m\n\u001b[0;32m----> 1\u001b[0;31m \u001b[0mdf\u001b[0m\u001b[0;34m[\u001b[0m\u001b[0;34m'Reported Time'\u001b[0m\u001b[0;34m]\u001b[0m\u001b[0;34m.\u001b[0m\u001b[0miloc\u001b[0m\u001b[0;34m[\u001b[0m\u001b[0;36m0\u001b[0m\u001b[0;34m]\u001b[0m\u001b[0;34m.\u001b[0m\u001b[0mseconds\u001b[0m\u001b[0;34m\u001b[0m\u001b[0;34m\u001b[0m\u001b[0m\n\u001b[0m",
      "\u001b[0;31mAttributeError\u001b[0m: 'datetime.time' object has no attribute 'seconds'"
     ]
    }
   ],
   "source": [
    "df['Reported Time'].iloc[0].seconds"
   ]
  },
  {
   "cell_type": "markdown",
   "metadata": {},
   "source": [
    "<b>The above error shows I've successfully changed the time to a datetime object even though it says just \"dtype: object\".</b>\n",
    "<br>Note: documentation says since datetime objects are not one of the usual objects it gets presented as just object even though it registers appropriately in the background.<br><br>\n",
    "# Make column names pythonic\n",
    "Take column titles and remove spaces, add underscores, and then change to all lowercase."
   ]
  },
  {
   "cell_type": "code",
   "execution_count": 93,
   "metadata": {
    "scrolled": false
   },
   "outputs": [
    {
     "data": {
      "text/html": [
       "<div>\n",
       "<style scoped>\n",
       "    .dataframe tbody tr th:only-of-type {\n",
       "        vertical-align: middle;\n",
       "    }\n",
       "\n",
       "    .dataframe tbody tr th {\n",
       "        vertical-align: top;\n",
       "    }\n",
       "\n",
       "    .dataframe thead th {\n",
       "        text-align: right;\n",
       "    }\n",
       "</style>\n",
       "<table border=\"1\" class=\"dataframe\">\n",
       "  <thead>\n",
       "    <tr style=\"text-align: right;\">\n",
       "      <th></th>\n",
       "      <th>subject_age_group</th>\n",
       "      <th>subject_id</th>\n",
       "      <th>go_/_sc_num</th>\n",
       "      <th>terry_stop_id</th>\n",
       "      <th>stop_resolution</th>\n",
       "      <th>weapon_type</th>\n",
       "      <th>officer_id</th>\n",
       "      <th>officer_yob</th>\n",
       "      <th>officer_gender</th>\n",
       "      <th>officer_race</th>\n",
       "      <th>...</th>\n",
       "      <th>reported_time</th>\n",
       "      <th>initial_call_type</th>\n",
       "      <th>final_call_type</th>\n",
       "      <th>call_type</th>\n",
       "      <th>officer_squad</th>\n",
       "      <th>arrest_flag</th>\n",
       "      <th>frisk_flag</th>\n",
       "      <th>precinct</th>\n",
       "      <th>sector</th>\n",
       "      <th>beat</th>\n",
       "    </tr>\n",
       "  </thead>\n",
       "  <tbody>\n",
       "    <tr>\n",
       "      <td>0</td>\n",
       "      <td>36 - 45</td>\n",
       "      <td>-1</td>\n",
       "      <td>20140000120677</td>\n",
       "      <td>92317</td>\n",
       "      <td>Arrest</td>\n",
       "      <td>None</td>\n",
       "      <td>7500</td>\n",
       "      <td>1984</td>\n",
       "      <td>M</td>\n",
       "      <td>Black or African American</td>\n",
       "      <td>...</td>\n",
       "      <td>11:32:00</td>\n",
       "      <td>-</td>\n",
       "      <td>-</td>\n",
       "      <td>None</td>\n",
       "      <td>SOUTH PCT 1ST W - ROBERT</td>\n",
       "      <td>N</td>\n",
       "      <td>N</td>\n",
       "      <td>South</td>\n",
       "      <td>O</td>\n",
       "      <td>O2</td>\n",
       "    </tr>\n",
       "    <tr>\n",
       "      <td>1</td>\n",
       "      <td>18 - 25</td>\n",
       "      <td>-1</td>\n",
       "      <td>20150000001670</td>\n",
       "      <td>32260</td>\n",
       "      <td>Field Contact</td>\n",
       "      <td>None</td>\n",
       "      <td>7539</td>\n",
       "      <td>1963</td>\n",
       "      <td>M</td>\n",
       "      <td>White</td>\n",
       "      <td>...</td>\n",
       "      <td>04:55:00</td>\n",
       "      <td>-</td>\n",
       "      <td>-</td>\n",
       "      <td>None</td>\n",
       "      <td>NaN</td>\n",
       "      <td>N</td>\n",
       "      <td>N</td>\n",
       "      <td>-</td>\n",
       "      <td>-</td>\n",
       "      <td>-</td>\n",
       "    </tr>\n",
       "    <tr>\n",
       "      <td>2</td>\n",
       "      <td>1 - 17</td>\n",
       "      <td>-1</td>\n",
       "      <td>20150000002451</td>\n",
       "      <td>46430</td>\n",
       "      <td>Field Contact</td>\n",
       "      <td>None</td>\n",
       "      <td>7591</td>\n",
       "      <td>1985</td>\n",
       "      <td>M</td>\n",
       "      <td>Hispanic or Latino</td>\n",
       "      <td>...</td>\n",
       "      <td>01:06:00</td>\n",
       "      <td>-</td>\n",
       "      <td>-</td>\n",
       "      <td>None</td>\n",
       "      <td>WEST PCT 3RD W - MARY</td>\n",
       "      <td>N</td>\n",
       "      <td>N</td>\n",
       "      <td>-</td>\n",
       "      <td>-</td>\n",
       "      <td>-</td>\n",
       "    </tr>\n",
       "    <tr>\n",
       "      <td>3</td>\n",
       "      <td>1 - 17</td>\n",
       "      <td>-1</td>\n",
       "      <td>20150000002815</td>\n",
       "      <td>51725</td>\n",
       "      <td>Field Contact</td>\n",
       "      <td>None</td>\n",
       "      <td>7456</td>\n",
       "      <td>1979</td>\n",
       "      <td>M</td>\n",
       "      <td>White</td>\n",
       "      <td>...</td>\n",
       "      <td>19:27:00</td>\n",
       "      <td>-</td>\n",
       "      <td>-</td>\n",
       "      <td>None</td>\n",
       "      <td>NORTH PCT 2ND W - NORA</td>\n",
       "      <td>N</td>\n",
       "      <td>N</td>\n",
       "      <td>-</td>\n",
       "      <td>-</td>\n",
       "      <td>-</td>\n",
       "    </tr>\n",
       "    <tr>\n",
       "      <td>4</td>\n",
       "      <td>26 - 35</td>\n",
       "      <td>-1</td>\n",
       "      <td>20150000002815</td>\n",
       "      <td>51727</td>\n",
       "      <td>Field Contact</td>\n",
       "      <td>None</td>\n",
       "      <td>7456</td>\n",
       "      <td>1979</td>\n",
       "      <td>M</td>\n",
       "      <td>White</td>\n",
       "      <td>...</td>\n",
       "      <td>19:32:00</td>\n",
       "      <td>-</td>\n",
       "      <td>-</td>\n",
       "      <td>None</td>\n",
       "      <td>NORTH PCT 2ND W - NORA</td>\n",
       "      <td>N</td>\n",
       "      <td>N</td>\n",
       "      <td>-</td>\n",
       "      <td>-</td>\n",
       "      <td>-</td>\n",
       "    </tr>\n",
       "  </tbody>\n",
       "</table>\n",
       "<p>5 rows × 23 columns</p>\n",
       "</div>"
      ],
      "text/plain": [
       "  subject_age_group  subject_id     go_/_sc_num  terry_stop_id  \\\n",
       "0           36 - 45          -1  20140000120677          92317   \n",
       "1           18 - 25          -1  20150000001670          32260   \n",
       "2            1 - 17          -1  20150000002451          46430   \n",
       "3            1 - 17          -1  20150000002815          51725   \n",
       "4           26 - 35          -1  20150000002815          51727   \n",
       "\n",
       "  stop_resolution weapon_type officer_id  officer_yob officer_gender  \\\n",
       "0          Arrest        None     7500           1984              M   \n",
       "1   Field Contact        None     7539           1963              M   \n",
       "2   Field Contact        None     7591           1985              M   \n",
       "3   Field Contact        None     7456           1979              M   \n",
       "4   Field Contact        None     7456           1979              M   \n",
       "\n",
       "                officer_race  ... reported_time initial_call_type  \\\n",
       "0  Black or African American  ...      11:32:00                 -   \n",
       "1                      White  ...      04:55:00                 -   \n",
       "2         Hispanic or Latino  ...      01:06:00                 -   \n",
       "3                      White  ...      19:27:00                 -   \n",
       "4                      White  ...      19:32:00                 -   \n",
       "\n",
       "  final_call_type call_type             officer_squad arrest_flag frisk_flag  \\\n",
       "0               -      None  SOUTH PCT 1ST W - ROBERT           N          N   \n",
       "1               -      None                       NaN           N          N   \n",
       "2               -      None     WEST PCT 3RD W - MARY           N          N   \n",
       "3               -      None    NORTH PCT 2ND W - NORA           N          N   \n",
       "4               -      None    NORTH PCT 2ND W - NORA           N          N   \n",
       "\n",
       "  precinct  sector    beat  \n",
       "0    South  O       O2      \n",
       "1        -       -       -  \n",
       "2        -       -       -  \n",
       "3        -       -       -  \n",
       "4        -       -       -  \n",
       "\n",
       "[5 rows x 23 columns]"
      ]
     },
     "execution_count": 93,
     "metadata": {},
     "output_type": "execute_result"
    }
   ],
   "source": [
    "# Change all df headers to python style\n",
    "df.columns = df.columns.str.strip().str.replace(' ', '_').str.lower()\n",
    "df.head()"
   ]
  },
  {
   "cell_type": "markdown",
   "metadata": {},
   "source": [
    "# Save cleaned file for use in other notebook pages"
   ]
  },
  {
   "cell_type": "code",
   "execution_count": 94,
   "metadata": {},
   "outputs": [],
   "source": [
    "# Save\n",
    "df.to_csv('terry-clean.csv', index = False) \n"
   ]
  },
  {
   "cell_type": "markdown",
   "metadata": {},
   "source": [
    "## Afterthought to check final call types"
   ]
  },
  {
   "cell_type": "code",
   "execution_count": 31,
   "metadata": {},
   "outputs": [
    {
     "data": {
      "text/plain": [
       "193"
      ]
     },
     "execution_count": 31,
     "metadata": {},
     "output_type": "execute_result"
    }
   ],
   "source": [
    "df.final_call_type.nunique()"
   ]
  },
  {
   "cell_type": "markdown",
   "metadata": {},
   "source": [
    "Too many categories to work with - at least for now."
   ]
  },
  {
   "cell_type": "code",
   "execution_count": null,
   "metadata": {},
   "outputs": [],
   "source": []
  }
 ],
 "metadata": {
  "kernelspec": {
   "display_name": "Python [conda env:learn-env] *",
   "language": "python",
   "name": "conda-env-learn-env-py"
  },
  "language_info": {
   "codemirror_mode": {
    "name": "ipython",
    "version": 3
   },
   "file_extension": ".py",
   "mimetype": "text/x-python",
   "name": "python",
   "nbconvert_exporter": "python",
   "pygments_lexer": "ipython3",
   "version": "3.6.9"
  },
  "toc": {
   "base_numbering": 1,
   "nav_menu": {},
   "number_sections": false,
   "sideBar": true,
   "skip_h1_title": false,
   "title_cell": "Table of Contents",
   "title_sidebar": "Contents",
   "toc_cell": false,
   "toc_position": {},
   "toc_section_display": true,
   "toc_window_display": true
  }
 },
 "nbformat": 4,
 "nbformat_minor": 2
}
